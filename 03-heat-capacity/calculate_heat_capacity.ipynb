{
 "cells": [
  {
   "cell_type": "code",
   "execution_count": 1,
   "id": "5f1fc562",
   "metadata": {},
   "outputs": [],
   "source": [
    "import numpy as np\n",
    "from scipy.stats import linregress"
   ]
  },
  {
   "cell_type": "markdown",
   "id": "7b5d5a8b-c5b1-470b-b99c-07f0ab131cef",
   "metadata": {},
   "source": [
    "## Temperatuer and number of bootstrap"
   ]
  },
  {
   "cell_type": "code",
   "execution_count": 2,
   "id": "58e64c00-da89-4b29-9788-e4eff6ce27ba",
   "metadata": {},
   "outputs": [],
   "source": [
    "temperature = np.array([5, 15, 25, 35, 45, 55]) + 273.15\n",
    "n_bootstrap = 10000"
   ]
  },
  {
   "cell_type": "markdown",
   "id": "5a014a37-7c6c-4b93-b771-066b16d1d216",
   "metadata": {},
   "source": [
    "## Enthalpy Results"
   ]
  },
  {
   "cell_type": "code",
   "execution_count": 3,
   "id": "2515010b",
   "metadata": {},
   "outputs": [],
   "source": [
    "dH = {\n",
    "    \"cb7\": {\n",
    "        \"adoh\": [-23.4, -24.4, -25.9, -27.0, -27.5, -28.9],\n",
    "        \"diad\": [-15.2, -16.1, -17.5, -18.5, -19.5, -20.3],\n",
    "    },\n",
    "    \"cb8\": {\n",
    "        \"adoh\": [-7.8, -8.7, -10.0, -10.2, -11.0, -12.0],\n",
    "        \"diad\": [-13.1, -14.4, -15.1, -15.7, -17.4, -18.2],\n",
    "    },\n",
    "    \"bcd\": {\n",
    "        \"adoh\": [-6.3, -7.0, -7.8, -8.5, -9.3, -10.0],\n",
    "        \"diad\": [-9.2, -10.1, -11.2, -12.3, -12.8, -13.6],\n",
    "    },\n",
    "}"
   ]
  },
  {
   "cell_type": "code",
   "execution_count": 4,
   "id": "91596dc5",
   "metadata": {},
   "outputs": [],
   "source": [
    "sem = {\n",
    "    \"cb7\": {\n",
    "        \"adoh\": [0.2, 0.2, 0.3, 0.2, 0.3, 0.3],\n",
    "        \"diad\": [0.3, 0.2, 0.3, 0.2, 0.3, 0.3],\n",
    "    },\n",
    "    \"cb8\": {\n",
    "        \"adoh\": [0.2, 0.2, 0.3, 0.2, 0.2, 0.3],\n",
    "        \"diad\": [0.2, 0.2, 0.3, 0.3, 0.2, 0.4],\n",
    "    },\n",
    "    \"bcd\": {\n",
    "        \"adoh\": [0.2, 0.2, 3.0, 0.2, 0.3, 0.2],\n",
    "        \"diad\": [0.3, 0.3, 0.3, 0.3, 0.3, 0.3],\n",
    "    },\n",
    "}"
   ]
  },
  {
   "cell_type": "markdown",
   "id": "267b0b4e-09b4-46b2-af1a-95363e63fd2a",
   "metadata": {},
   "source": [
    "## Estimate $\\Delta C_{p,b}$ and the SEM"
   ]
  },
  {
   "cell_type": "code",
   "execution_count": 6,
   "id": "cd67cddb",
   "metadata": {},
   "outputs": [
    {
     "name": "stdout",
     "output_type": "stream",
     "text": [
      "cb7-adoh =   -108.3 +- 6.1 cal/mol/K\n",
      "cb7-diad =   -104.7 +- 7.0 cal/mol/K\n",
      "cb8-adoh =    -80.3 +- 5.9 cal/mol/K\n",
      "cb8-diad =   -100.3 +- 6.9 cal/mol/K\n",
      "bcd-adoh =    -74.5 +- 9.9 cal/mol/K\n",
      "bcd-diad =    -89.1 +- 7.2 cal/mol/K\n"
     ]
    }
   ],
   "source": [
    "for host in [\"cb7\", \"cb8\", \"bcd\"]:\n",
    "    for guest in [\"adoh\", \"diad\"]:\n",
    "        slopes = []\n",
    "        for i in range(n_bootstrap):\n",
    "            # Sample from the Normal Distribution\n",
    "            y = np.random.normal(dH[host][guest], scale=sem[host][guest])\n",
    "\n",
    "            # Linear Regression\n",
    "            regr = linregress(temperature, y * 1000)\n",
    "\n",
    "            # Add gradient to list\n",
    "            slopes.append(regr.slope)\n",
    "\n",
    "        # Estimate the mean and standard deviation\n",
    "        mean = np.mean(slopes)\n",
    "        error = np.std(slopes)\n",
    "\n",
    "        # Print results\n",
    "        print(f\"{host}-{guest} = {mean:>8.1f} +- {error:>3.1f} cal/mol/K\")"
   ]
  },
  {
   "cell_type": "code",
   "execution_count": null,
   "id": "4477446d",
   "metadata": {},
   "outputs": [],
   "source": []
  }
 ],
 "metadata": {
  "kernelspec": {
   "display_name": "Python 3 (ipykernel)",
   "language": "python",
   "name": "python3"
  },
  "language_info": {
   "codemirror_mode": {
    "name": "ipython",
    "version": 3
   },
   "file_extension": ".py",
   "mimetype": "text/x-python",
   "name": "python",
   "nbconvert_exporter": "python",
   "pygments_lexer": "ipython3",
   "version": "3.9.16"
  }
 },
 "nbformat": 4,
 "nbformat_minor": 5
}
