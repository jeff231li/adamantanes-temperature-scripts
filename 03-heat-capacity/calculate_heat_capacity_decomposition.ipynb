{
 "cells": [
  {
   "cell_type": "code",
   "execution_count": 1,
   "id": "2ff96367",
   "metadata": {},
   "outputs": [],
   "source": [
    "import numpy as np\n",
    "from scipy.stats import linregress"
   ]
  },
  {
   "cell_type": "markdown",
   "id": "d6bea830-de51-4858-bd8f-e1ecebd64512",
   "metadata": {},
   "source": [
    "## Temperature"
   ]
  },
  {
   "cell_type": "code",
   "execution_count": 2,
   "id": "1ed0bcf6-4574-4d0e-bfde-a468047fa735",
   "metadata": {},
   "outputs": [],
   "source": [
    "temperature = np.array([5, 15, 25, 35, 45, 55]) + 273.15"
   ]
  },
  {
   "cell_type": "markdown",
   "id": "c375c255-0f41-4da5-a52f-ebc1fb24f1f3",
   "metadata": {},
   "source": [
    "## Enthalpy Decomposition Results"
   ]
  },
  {
   "cell_type": "code",
   "execution_count": 3,
   "id": "30356f9a",
   "metadata": {},
   "outputs": [],
   "source": [
    "enthalpy = {\n",
    "    \"cb7\": {\n",
    "        \"adoh\": {\n",
    "            \"host_guest\": [-40.48, -40.44, -40.43, -40.37, -40.31, -40.28],\n",
    "            \"host_conf\": [-0.05, -0.05, -0.07, -0.06, -0.06, -0.05],\n",
    "            \"guest_conf\": [-3.03, -3.09, -3.16, -3.19, -3.24, -3.31],\n",
    "            \"solute_inter\": [-37.40, -37.30, -37.21, -37.11, -37.01, -36.91],\n",
    "            \"desolvation\": [17.00, 15.93, 14.43, 13.24, 12.63, 11.29],\n",
    "            \"host_water\": [12.14, 11.86, 11.56, 11.27, 10.96, 10.65],\n",
    "            \"guest_water\": [21.41, 20.83, 20.26, 19.72, 19.22, 18.76],\n",
    "            \"water_water\": [-16.55, -16.76, -17.39, -17.74, -17.55, -18.13],\n",
    "            \"total\": [-23.48, -24.38, -26.00, -26.99, -27.55, -28.99],\n",
    "        },\n",
    "        \"diad\": {\n",
    "            \"host_guest\": [-43.00, -42.92, -42.82, -42.75, -42.63, -42.49],\n",
    "            \"host_conf\": [0.67, 0.67, 0.66, 0.67, 0.67, 0.68],\n",
    "            \"guest_conf\": [-5.23, -5.20, -5.13, -5.13, -5.04, -4.97],\n",
    "            \"solute_inter\": [-38.44, -38.39, -38.34, -38.30, -38.25, -38.20],\n",
    "            \"desolvation\": [27.90, 26.99, 25.47, 24.35, 23.23, 22.33],\n",
    "            \"host_water\": [13.41, 13.11, 12.83, 12.52, 12.22, 11.94],\n",
    "            \"guest_water\": [36.82, 36.11, 35.45, 34.88, 34.22, 33.60],\n",
    "            \"water_water\": [-22.32, -22.23, -22.81, -23.05, -23.20, -23.21],\n",
    "            \"total\": [-15.10, -16.05, -17.35, -18.53, -19.51, -20.16],\n",
    "        },\n",
    "    },\n",
    "    \"cb8\": {\n",
    "        \"adoh\": {\n",
    "            \"host_guest\": [-28.37, -28.35, -28.29, -28.30, -28.27, -28.25],\n",
    "            \"host_conf\": [0.00, 0.00, 0.01, 0.00, 0.01, 0.01],\n",
    "            \"guest_conf\": [-0.14, -0.16, -0.14, -0.18, -0.19, -0.21],\n",
    "            \"solute_inter\": [-28.23, -28.19, -28.16, -28.12, -28.09, -28.05],\n",
    "            \"desolvation\": [20.48, 19.52, 18.15, 17.93, 17.11, 16.15],\n",
    "            \"host_water\": [11.96, 11.79, 11.61, 11.43, 11.24, 11.04],\n",
    "            \"guest_water\": [25.28, 24.81, 24.30, 23.87, 23.42, 22.87],\n",
    "            \"water_water\": [-16.77, -17.07, -17.77, -17.37, -17.55, -17.75],\n",
    "            \"total\": [-7.90, -8.70, -10.14, -10.24, -11.04, -12.10],\n",
    "        },\n",
    "        \"diad\": {\n",
    "            \"host_guest\": [-40.55, -40.56, -40.51, -40.45, -40.37, -40.38],\n",
    "            \"host_conf\": [-0.10, -0.11, -0.09, -0.08, -0.10, -0.11],\n",
    "            \"guest_conf\": [-0.06, -0.16, -0.21, -0.26, -0.26, -0.35],\n",
    "            \"solute_inter\": [-40.39, -40.30, -40.21, -40.11, -40.01, -39.92],\n",
    "            \"desolvation\": [27.53, 26.33, 25.53, 24.85, 23.10, 22.25],\n",
    "            \"host_water\": [19.01, 18.56, 18.11, 17.66, 17.18, 16.72],\n",
    "            \"guest_water\": [30.87, 30.37, 29.81, 29.25, 28.64, 28.03],\n",
    "            \"water_water\": [-22.35, -22.60, -22.40, -22.05, -22.72, -22.50],\n",
    "            \"total\": [-13.02, -14.35, -14.98, -15.71, -17.39, -18.13],\n",
    "        },\n",
    "    },\n",
    "    \"bcd\": {\n",
    "        \"adoh\": {\n",
    "            \"host_guest\": [-24.03, -23.93, -23.92, -23.87, -23.97, -24.00],\n",
    "            \"host_conf\": [-0.02, -0.01, -0.02, -0.02, -0.02, -0.02],\n",
    "            \"guest_conf\": [-2.64, -2.74, -3.02, -3.05, -3.21, -3.35],\n",
    "            \"solute_inter\": [-21.36, -21.18, -20.87, -20.80, -20.74, -20.63],\n",
    "            \"desolvation\": [17.69, 16.89, 16.06, 15.30, 14.60, 13.95],\n",
    "            \"host_water\": [11.60, 11.33, 10.86, 10.77, 10.68, 10.52],\n",
    "            \"guest_water\": [18.60, 18.30, 18.36, 17.99, 17.88, 17.71],\n",
    "            \"water_water\": [-12.50, -12.75, -13.16, -13.46, -13.96, -14.28],\n",
    "            \"total\": [-6.26, -6.98, -7.79, -8.51, -9.30, -10.00],\n",
    "        },\n",
    "        \"diad\": {\n",
    "            \"host_guest\": [-32.19, -31.97, -31.97, -31.84, -31.72, -31.58],\n",
    "            \"host_conf\": [0.02, 0.02, 0.02, 0.01, 0.02, 0.03],\n",
    "            \"guest_conf\": [-5.19, -5.10, -5.22, -5.20, -5.22, -5.20],\n",
    "            \"solute_inter\": [-27.02, -26.89, -26.76, -26.66, -26.53, -26.41],\n",
    "            \"desolvation\": [22.96, 21.75, 20.69, 19.49, 18.87, 17.88],\n",
    "            \"host_water\": [14.36, 14.16, 13.97, 13.81, 13.64, 13.46],\n",
    "            \"guest_water\": [25.41, 24.73, 24.30, 23.79, 23.25, 22.69],\n",
    "            \"water_water\": [-16.81, -17.15, -17.58, -18.10, -18.02, -18.28],\n",
    "            \"total\": [-9.16, -10.14, -11.20, -12.28, -12.78, -13.63],\n",
    "        },\n",
    "    },\n",
    "}"
   ]
  },
  {
   "cell_type": "markdown",
   "id": "2e74ba52-1a17-4df5-9de3-30444a91e2c8",
   "metadata": {},
   "source": [
    "## Estimate $\\Delta C_{p,b}$ for Each Component"
   ]
  },
  {
   "cell_type": "code",
   "execution_count": 4,
   "id": "acbd151a",
   "metadata": {},
   "outputs": [],
   "source": [
    "heat_capacity = {}\n",
    "\n",
    "for host in enthalpy:\n",
    "    heat_capacity[host] = {}\n",
    "\n",
    "    for guest in enthalpy[host]:\n",
    "        heat_capacity[host][guest] = {}\n",
    "\n",
    "        for decomp in enthalpy[host][guest]:\n",
    "            # Linear Regression\n",
    "            lin_stats = linregress(temperature, enthalpy[host][guest][decomp])\n",
    "\n",
    "            # Store dC(p,b) in cal/mol/K\n",
    "            heat_capacity[host][guest][decomp] = lin_stats.slope * 1000"
   ]
  },
  {
   "cell_type": "markdown",
   "id": "0ce23d50-5996-4902-94c8-36a340948212",
   "metadata": {
    "tags": []
   },
   "source": [
    "## Print Results"
   ]
  },
  {
   "cell_type": "code",
   "execution_count": 5,
   "id": "ceb78397",
   "metadata": {
    "tags": []
   },
   "outputs": [
    {
     "name": "stdout",
     "output_type": "stream",
     "text": [
      "CB7-ADOH\n",
      "\n",
      "dCp(Host-Guest)  =     4.1 cal/mol/K\n",
      "dCp(Desolvation) =  -113.3 cal/mol/K\n",
      "----------------------------------------\n",
      "dCp(Total)       =  -108.7 cal/mol/K\n",
      "\n",
      "\n",
      "CB7-DIAD\n",
      "\n",
      "dCp(Host-Guest)  =    10.0 cal/mol/K\n",
      "dCp(Desolvation) =  -115.0 cal/mol/K\n",
      "----------------------------------------\n",
      "dCp(Total)       =  -105.3 cal/mol/K\n",
      "\n",
      "\n",
      "CB8-ADOH\n",
      "\n",
      "dCp(Host-Guest)  =     2.4 cal/mol/K\n",
      "dCp(Desolvation) =   -83.1 cal/mol/K\n",
      "----------------------------------------\n",
      "dCp(Total)       =   -80.3 cal/mol/K\n",
      "\n",
      "\n",
      "CB8-DIAD\n",
      "\n",
      "dCp(Host-Guest)  =     4.2 cal/mol/K\n",
      "dCp(Desolvation) =  -105.1 cal/mol/K\n",
      "----------------------------------------\n",
      "dCp(Total)       =  -101.1 cal/mol/K\n",
      "\n",
      "\n",
      "BCD-ADOH\n",
      "\n",
      "dCp(Host-Guest)  =     0.2 cal/mol/K\n",
      "dCp(Desolvation) =   -75.2 cal/mol/K\n",
      "----------------------------------------\n",
      "dCp(Total)       =   -75.4 cal/mol/K\n",
      "\n",
      "\n",
      "BCD-DIAD\n",
      "\n",
      "dCp(Host-Guest)  =    11.2 cal/mol/K\n",
      "dCp(Desolvation) =  -100.7 cal/mol/K\n",
      "----------------------------------------\n",
      "dCp(Total)       =   -89.6 cal/mol/K\n",
      "\n",
      "\n"
     ]
    }
   ],
   "source": [
    "for host in heat_capacity:\n",
    "    for guest in heat_capacity[host]:\n",
    "        host_guest = heat_capacity[host][guest][\"host_guest\"]\n",
    "        desolvation = heat_capacity[host][guest][\"desolvation\"]\n",
    "        total = heat_capacity[host][guest][\"total\"]\n",
    "\n",
    "        print(f\"{host.upper()}-{guest.upper()}\\n\")\n",
    "        print(f\"dCp(Host-Guest)  = {host_guest:>7.1f} cal/mol/K\")\n",
    "        print(f\"dCp(Desolvation) = {desolvation:>7.1f} cal/mol/K\")\n",
    "        print(\"----------------------------------------\")\n",
    "        print(f\"dCp(Total)       = {total:>7.1f} cal/mol/K\\n\\n\")"
   ]
  },
  {
   "cell_type": "code",
   "execution_count": null,
   "id": "faadf62f-6705-4236-b8a9-f73977cd5c9a",
   "metadata": {},
   "outputs": [],
   "source": []
  }
 ],
 "metadata": {
  "kernelspec": {
   "display_name": "Python 3 (ipykernel)",
   "language": "python",
   "name": "python3"
  },
  "language_info": {
   "codemirror_mode": {
    "name": "ipython",
    "version": 3
   },
   "file_extension": ".py",
   "mimetype": "text/x-python",
   "name": "python",
   "nbconvert_exporter": "python",
   "pygments_lexer": "ipython3",
   "version": "3.9.16"
  }
 },
 "nbformat": 4,
 "nbformat_minor": 5
}
