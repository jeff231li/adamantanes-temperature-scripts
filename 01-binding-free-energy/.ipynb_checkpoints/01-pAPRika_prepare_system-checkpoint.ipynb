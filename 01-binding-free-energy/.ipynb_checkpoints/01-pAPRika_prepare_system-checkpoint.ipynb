{
 "cells": [
  {
   "cell_type": "code",
   "execution_count": 50,
   "metadata": {},
   "outputs": [],
   "source": [
    "import json\n",
    "import os\n",
    "import shutil\n",
    "\n",
    "import numpy as np\n",
    "import parmed as pmd\n",
    "import simtk.openmm as openmm\n",
    "import simtk.openmm.app as app\n",
    "import simtk.unit as unit\n",
    "import yaml\n",
    "from paprika import io, restraints\n",
    "from paprika.build import align, dummy\n",
    "from paprika.build.system.tleap import TLeap\n",
    "from paprika.build.system.utils import PBCBox\n",
    "from paprika.restraints.openmm import apply_dat_restraint, apply_positional_restraints"
   ]
  },
  {
   "cell_type": "markdown",
   "metadata": {},
   "source": [
    "## File options"
   ]
  },
  {
   "cell_type": "code",
   "execution_count": 2,
   "metadata": {},
   "outputs": [],
   "source": [
    "guest_resname = \"AMT\"\n",
    "host_resname = \"CB7\"\n",
    "gaff_version = \"gaff2\"\n",
    "\n",
    "structure_folder = \"../structure-files\"\n",
    "guest_mol2 = \"1-AdOH.am1bcc.gaff2.mol2\"\n",
    "host_mol2 = \"cb7.am1bcc.gaff2.mol2\"\n",
    "guest_frcmod = \"guest.frcmod\"\n",
    "host_frcmod = \"host.frcmod\"\n",
    "complex_pdb = \"cb7-1-AdOH.pdb\"\n",
    "\n",
    "base_name = f\"{host_resname}-{guest_resname}\"\n",
    "simulation_backend = \"openmm\"\n",
    "n_water = 2500"
   ]
  },
  {
   "cell_type": "markdown",
   "metadata": {},
   "source": [
    "### Create system in vacuum"
   ]
  },
  {
   "cell_type": "code",
   "execution_count": 3,
   "metadata": {},
   "outputs": [],
   "source": [
    "tmp_folder = \"build_folder\"\n",
    "os.makedirs(tmp_folder, exist_ok=True)"
   ]
  },
  {
   "cell_type": "code",
   "execution_count": 4,
   "metadata": {},
   "outputs": [],
   "source": [
    "system = TLeap()\n",
    "system.output_path = tmp_folder\n",
    "system.pbc_type = None\n",
    "system.neutralize = False\n",
    "system.output_prefix = \"vac\"\n",
    "\n",
    "system.template_lines = [\n",
    "    f\"source leaprc.{gaff_version}\",\n",
    "    f\"loadamberparams ../{structure_folder}/{guest_frcmod}\",\n",
    "    f\"loadamberparams ../{structure_folder}/{host_frcmod}\",\n",
    "    f\"{guest_resname} = loadmol2 ../{structure_folder}/{guest_mol2}\",\n",
    "    f\"{host_resname} = loadmol2 ../{structure_folder}/{host_mol2}\",\n",
    "    f\"model = loadpdb ../{structure_folder}/{complex_pdb}\",\n",
    "]\n",
    "system.build(clean_files=False)"
   ]
  },
  {
   "cell_type": "markdown",
   "metadata": {},
   "source": [
    "### Add dummy atoms"
   ]
  },
  {
   "cell_type": "code",
   "execution_count": 5,
   "metadata": {},
   "outputs": [],
   "source": [
    "structure = pmd.load_file(\n",
    "    f\"{tmp_folder}/vac.prmtop\", f\"{tmp_folder}/vac.rst7\", structure=True\n",
    ")\n",
    "\n",
    "structure = dummy.add_dummy(structure, residue_name=\"DM1\", z=-7.0)\n",
    "structure = dummy.add_dummy(structure, residue_name=\"DM2\", z=-10.0)\n",
    "structure = dummy.add_dummy(structure, residue_name=\"DM3\", z=-12.2, y=2.2)\n",
    "\n",
    "structure.save(f\"{tmp_folder}/aligned_with_dummy.pdb\", overwrite=True)\n",
    "\n",
    "dummy.write_dummy_frcmod(filepath=f\"{tmp_folder}/dummy.frcmod\")\n",
    "dummy.write_dummy_mol2(residue_name=\"DM1\", filepath=f\"{tmp_folder}/dm1.mol2\")\n",
    "dummy.write_dummy_mol2(residue_name=\"DM2\", filepath=f\"{tmp_folder}/dm2.mol2\")\n",
    "dummy.write_dummy_mol2(residue_name=\"DM3\", filepath=f\"{tmp_folder}/dm3.mol2\")"
   ]
  },
  {
   "cell_type": "markdown",
   "metadata": {},
   "source": [
    "### Create vac-dum system"
   ]
  },
  {
   "cell_type": "code",
   "execution_count": 6,
   "metadata": {},
   "outputs": [],
   "source": [
    "system = TLeap()\n",
    "system.output_path = tmp_folder\n",
    "system.pbc_type = None\n",
    "system.neutralize = False\n",
    "system.output_prefix = \"vac-dum\"\n",
    "\n",
    "system.template_lines = [\n",
    "    f\"source leaprc.{gaff_version}\",\n",
    "    f\"loadamberparams ../{structure_folder}/{guest_frcmod}\",\n",
    "    f\"loadamberparams ../{structure_folder}/{host_frcmod}\",\n",
    "    \"loadamberparams dummy.frcmod\",\n",
    "    f\"{host_resname} = loadmol2 ../{structure_folder}/{host_mol2}\",\n",
    "    f\"{guest_resname} = loadmol2 ../{structure_folder}/{guest_mol2}\",\n",
    "    \"DM1 = loadmol2 dm1.mol2\",\n",
    "    \"DM2 = loadmol2 dm2.mol2\",\n",
    "    \"DM3 = loadmol2 dm3.mol2\",\n",
    "    \"complex = loadpdb aligned_with_dummy.pdb\",\n",
    "]\n",
    "system.build(clean_files=False)"
   ]
  },
  {
   "cell_type": "markdown",
   "metadata": {},
   "source": [
    "### Choose Anchor atoms"
   ]
  },
  {
   "cell_type": "code",
   "execution_count": 7,
   "metadata": {},
   "outputs": [],
   "source": [
    "anchor_atoms = {}\n",
    "\n",
    "anchor_atoms[\"G1\"] = f\":{guest_resname}@C5\"\n",
    "anchor_atoms[\"G2\"] = f\":{guest_resname}@C1\"\n",
    "\n",
    "anchor_atoms[\"H1\"] = f\":{host_resname}@C15\"\n",
    "anchor_atoms[\"H2\"] = f\":{host_resname}@C22\"\n",
    "anchor_atoms[\"H3\"] = f\":{host_resname}@C28\"\n",
    "\n",
    "anchor_atoms[\"D1\"] = \":DM1\"\n",
    "anchor_atoms[\"D2\"] = \":DM2\"\n",
    "anchor_atoms[\"D3\"] = \":DM3\"\n",
    "\n",
    "with open(\"anchor_atoms.yaml\", \"w\") as file:\n",
    "    documents = yaml.dump(anchor_atoms, file)"
   ]
  },
  {
   "cell_type": "code",
   "execution_count": 8,
   "metadata": {},
   "outputs": [],
   "source": [
    "D1 = anchor_atoms[\"D1\"]\n",
    "D2 = anchor_atoms[\"D2\"]\n",
    "D3 = anchor_atoms[\"D3\"]\n",
    "H1 = anchor_atoms[\"H1\"]\n",
    "H2 = anchor_atoms[\"H2\"]\n",
    "H3 = anchor_atoms[\"H3\"]\n",
    "G1 = anchor_atoms[\"G1\"]\n",
    "G2 = anchor_atoms[\"G2\"]"
   ]
  },
  {
   "cell_type": "markdown",
   "metadata": {},
   "source": [
    "### APR windows"
   ]
  },
  {
   "cell_type": "code",
   "execution_count": 9,
   "metadata": {},
   "outputs": [
    {
     "name": "stdout",
     "output_type": "stream",
     "text": [
      "There are [15, 46, 15] windows in this attach-pull-release calculation.\n"
     ]
    }
   ],
   "source": [
    "# 15 attach windows\n",
    "attach_string = (\n",
    "    \"0.00 0.40 0.80 1.60 2.40 4.00 5.50 8.65 11.80 18.10 24.40 37.00 49.60 74.80 100.00\"\n",
    ")\n",
    "attach_fractions = [float(i) / 100 for i in attach_string.split()]\n",
    "\n",
    "# Pull guest from 6Ang to 24Ang with 0.4Ang increment\n",
    "initial_distance = 6.0\n",
    "dr = 0.4\n",
    "pull_distances = np.arange(0.0 + initial_distance, 18.0 + initial_distance + dr, dr)\n",
    "\n",
    "# 15 release windows\n",
    "release_fractions = attach_fractions[::-1]\n",
    "\n",
    "windows = [len(attach_fractions), len(pull_distances), len(release_fractions)]\n",
    "print(f\"There are {windows} windows in this attach-pull-release calculation.\")"
   ]
  },
  {
   "cell_type": "code",
   "execution_count": 10,
   "metadata": {},
   "outputs": [],
   "source": [
    "structure = pmd.load_file(\n",
    "    f\"{tmp_folder}/vac-dum.prmtop\", f\"{tmp_folder}/vac-dum.rst7\", structure=True\n",
    ")"
   ]
  },
  {
   "cell_type": "markdown",
   "metadata": {},
   "source": [
    "## Host Restraints"
   ]
  },
  {
   "cell_type": "code",
   "execution_count": 22,
   "metadata": {},
   "outputs": [],
   "source": [
    "static_restraints = []\n",
    "\n",
    "k_dist = 5.0  # kcal/mol/A^2\n",
    "k_angle = 100  # kcal/mol/rad^2"
   ]
  },
  {
   "cell_type": "code",
   "execution_count": 23,
   "metadata": {},
   "outputs": [],
   "source": [
    "r = restraints.static_DAT_restraint(\n",
    "    restraint_mask_list=[D1, H1],\n",
    "    num_window_list=windows,\n",
    "    ref_structure=structure,\n",
    "    force_constant=k_dist,\n",
    "    amber_index=False if simulation_backend == \"openmm\" else True,\n",
    ")\n",
    "static_restraints.append(r)"
   ]
  },
  {
   "cell_type": "code",
   "execution_count": 24,
   "metadata": {},
   "outputs": [],
   "source": [
    "r = restraints.static_DAT_restraint(\n",
    "    restraint_mask_list=[D2, D1, H1],\n",
    "    num_window_list=windows,\n",
    "    ref_structure=structure,\n",
    "    force_constant=k_angle,\n",
    "    amber_index=False if simulation_backend == \"openmm\" else True,\n",
    ")\n",
    "static_restraints.append(r)"
   ]
  },
  {
   "cell_type": "code",
   "execution_count": 25,
   "metadata": {},
   "outputs": [],
   "source": [
    "r = restraints.static_DAT_restraint(\n",
    "    restraint_mask_list=[D3, D2, D1, H1],\n",
    "    num_window_list=windows,\n",
    "    ref_structure=structure,\n",
    "    force_constant=k_angle,\n",
    "    amber_index=False if simulation_backend == \"openmm\" else True,\n",
    ")\n",
    "static_restraints.append(r)"
   ]
  },
  {
   "cell_type": "code",
   "execution_count": 26,
   "metadata": {},
   "outputs": [],
   "source": [
    "r = restraints.static_DAT_restraint(\n",
    "    restraint_mask_list=[D1, H1, H2],\n",
    "    num_window_list=windows,\n",
    "    ref_structure=structure,\n",
    "    force_constant=k_angle,\n",
    "    amber_index=False if simulation_backend == \"openmm\" else True,\n",
    ")\n",
    "static_restraints.append(r)"
   ]
  },
  {
   "cell_type": "code",
   "execution_count": 27,
   "metadata": {},
   "outputs": [],
   "source": [
    "r = restraints.static_DAT_restraint(\n",
    "    restraint_mask_list=[D2, D1, H1, H2],\n",
    "    num_window_list=windows,\n",
    "    ref_structure=structure,\n",
    "    force_constant=k_angle,\n",
    "    amber_index=False if simulation_backend == \"openmm\" else True,\n",
    ")\n",
    "static_restraints.append(r)"
   ]
  },
  {
   "cell_type": "code",
   "execution_count": 28,
   "metadata": {},
   "outputs": [],
   "source": [
    "r = restraints.static_DAT_restraint(\n",
    "    restraint_mask_list=[D1, H1, H2, H3],\n",
    "    num_window_list=windows,\n",
    "    ref_structure=structure,\n",
    "    force_constant=k_angle,\n",
    "    amber_index=False if simulation_backend == \"openmm\" else True,\n",
    ")\n",
    "static_restraints.append(r)"
   ]
  },
  {
   "cell_type": "markdown",
   "metadata": {},
   "source": [
    "### Guest restraints"
   ]
  },
  {
   "cell_type": "code",
   "execution_count": 33,
   "metadata": {},
   "outputs": [],
   "source": [
    "guest_restraints = []"
   ]
  },
  {
   "cell_type": "code",
   "execution_count": 34,
   "metadata": {},
   "outputs": [],
   "source": [
    "r = restraints.DAT_restraint()\n",
    "r.mask1 = D1\n",
    "r.mask2 = G1\n",
    "r.topology = structure\n",
    "r.auto_apr = True\n",
    "r.continuous_apr = True\n",
    "r.amber_index = False if simulation_backend == \"openmm\" else True\n",
    "\n",
    "r.attach[\"target\"] = pull_distances[0]  # Angstroms\n",
    "r.attach[\"fraction_list\"] = attach_fractions\n",
    "r.attach[\"fc_final\"] = k_dist\n",
    "\n",
    "r.pull[\"target_final\"] = pull_distances[-1]  # Angstroms\n",
    "r.pull[\"num_windows\"] = windows[1]\n",
    "\n",
    "r.release[\"target\"] = pull_distances[-1]\n",
    "r.release[\"fraction_list\"] = [1.0] * windows[2]\n",
    "r.release[\"fc_final\"] = k_dist\n",
    "\n",
    "r.initialize()\n",
    "guest_restraints.append(r)"
   ]
  },
  {
   "cell_type": "code",
   "execution_count": 35,
   "metadata": {},
   "outputs": [],
   "source": [
    "r = restraints.DAT_restraint()\n",
    "r.mask1 = D2\n",
    "r.mask2 = D1\n",
    "r.mask3 = G1\n",
    "r.topology = structure\n",
    "r.auto_apr = True\n",
    "r.continuous_apr = True\n",
    "r.amber_index = False if simulation_backend == \"openmm\" else True\n",
    "\n",
    "r.attach[\"target\"] = 180.0  # Degrees\n",
    "r.attach[\"fraction_list\"] = attach_fractions\n",
    "r.attach[\"fc_final\"] = k_angle\n",
    "\n",
    "r.pull[\"target_final\"] = 180.0  # Degrees\n",
    "r.pull[\"num_windows\"] = windows[1]\n",
    "\n",
    "r.release[\"target\"] = 180.0\n",
    "r.release[\"fraction_list\"] = [1.0] * windows[2]\n",
    "r.release[\"fc_final\"] = k_angle\n",
    "\n",
    "r.initialize()\n",
    "guest_restraints.append(r)"
   ]
  },
  {
   "cell_type": "code",
   "execution_count": 36,
   "metadata": {},
   "outputs": [],
   "source": [
    "r = restraints.DAT_restraint()\n",
    "r.mask1 = D1\n",
    "r.mask2 = G1\n",
    "r.mask3 = G2\n",
    "r.topology = structure\n",
    "r.auto_apr = True\n",
    "r.continuous_apr = True\n",
    "r.amber_index = False if simulation_backend == \"openmm\" else True\n",
    "\n",
    "r.attach[\"target\"] = 180.0  # Degrees\n",
    "r.attach[\"fraction_list\"] = attach_fractions\n",
    "r.attach[\"fc_final\"] = k_angle\n",
    "\n",
    "r.pull[\"target_final\"] = 180.0  # Degrees\n",
    "r.pull[\"num_windows\"] = windows[1]\n",
    "\n",
    "r.release[\"target\"] = 180.0\n",
    "r.release[\"fraction_list\"] = [1.0] * windows[2]\n",
    "r.release[\"fc_final\"] = k_angle\n",
    "\n",
    "r.initialize()\n",
    "guest_restraints.append(r)"
   ]
  },
  {
   "cell_type": "markdown",
   "metadata": {},
   "source": [
    "### Host conformational restraints"
   ]
  },
  {
   "cell_type": "code",
   "execution_count": 37,
   "metadata": {},
   "outputs": [],
   "source": [
    "host_restraints = []\n",
    "r0 = 13.5  # Angstrom\n",
    "kr = 15.0  # kcal/mol/A^2\n",
    "\n",
    "bonds = [\n",
    "    [\":CB7@N6\", \":CB7@N13\"],\n",
    "    [\":CB7@N7\", \":CB7@N14\"],\n",
    "    [\":CB7@N1\", \":CB7@N8\"],\n",
    "    [\":CB7@N2\", \":CB7@N9\"],\n",
    "    [\":CB7@N3\", \":CB7@N10\"],\n",
    "    [\":CB7@N4\", \":CB7@N11\"],\n",
    "    [\":CB7@N5\", \":CB7@N12\"],\n",
    "    [\":CB7@N15\", \":CB7@N22\"],\n",
    "    [\":CB7@N21\", \":CB7@N28\"],\n",
    "    [\":CB7@N20\", \":CB7@N27\"],\n",
    "    [\":CB7@N19\", \":CB7@N26\"],\n",
    "    [\":CB7@N18\", \":CB7@N25\"],\n",
    "    [\":CB7@N17\", \":CB7@N24\"],\n",
    "    [\":CB7@N16\", \":CB7@N23\"],\n",
    "]"
   ]
  },
  {
   "cell_type": "code",
   "execution_count": 38,
   "metadata": {},
   "outputs": [],
   "source": [
    "for bond in bonds:\n",
    "    r = restraints.DAT_restraint()\n",
    "    r.mask1 = bond[0]\n",
    "    r.mask2 = bond[1]\n",
    "    r.topology = structure\n",
    "    r.auto_apr = True\n",
    "    r.continuous_apr = True\n",
    "    r.amber_index = False if simulation_backend == \"openmm\" else True\n",
    "\n",
    "    r.attach[\"target\"] = r0  # Angstroms\n",
    "    r.attach[\"fraction_list\"] = attach_fractions\n",
    "    r.attach[\"fc_final\"] = kr  # kcal/mol/Angstroms**2\n",
    "\n",
    "    r.pull[\"target_final\"] = r0  # Angstroms\n",
    "    r.pull[\"num_windows\"] = windows[1]\n",
    "\n",
    "    r.release[\"target\"] = r0\n",
    "    r.release[\"fraction_list\"] = release_fractions\n",
    "    r.release[\"fc_final\"] = kr\n",
    "\n",
    "    r.initialize()\n",
    "\n",
    "    host_restraints.append(r)"
   ]
  },
  {
   "cell_type": "markdown",
   "metadata": {},
   "source": [
    "### Save restraints to Json"
   ]
  },
  {
   "cell_type": "code",
   "execution_count": 39,
   "metadata": {},
   "outputs": [],
   "source": [
    "from paprika.io import save_restraints\n",
    "\n",
    "save_restraints((guest_restraints + host_restraints), filepath=\"restraints.json\")"
   ]
  },
  {
   "cell_type": "markdown",
   "metadata": {},
   "source": [
    "### Create folders and write restraint files"
   ]
  },
  {
   "cell_type": "code",
   "execution_count": 40,
   "metadata": {},
   "outputs": [],
   "source": [
    "window_list = restraints.restraints.create_window_list(guest_restraints)"
   ]
  },
  {
   "cell_type": "code",
   "execution_count": 41,
   "metadata": {},
   "outputs": [],
   "source": [
    "apr_windows = {\"attach\": [], \"pull\": [], \"release\": []}\n",
    "for window in window_list:\n",
    "    if window[0] == \"a\":\n",
    "        apr_windows[\"attach\"].append(window)\n",
    "    if window[0] == \"p\":\n",
    "        apr_windows[\"pull\"].append(window)\n",
    "    if window[0] == \"r\":\n",
    "        apr_windows[\"release\"].append(window)\n",
    "\n",
    "with open(\"windows.json\", \"w\") as f:\n",
    "    dumped = json.dumps(apr_windows, cls=io.NumpyEncoder)\n",
    "    f.write(dumped)"
   ]
  },
  {
   "cell_type": "code",
   "execution_count": 42,
   "metadata": {},
   "outputs": [],
   "source": [
    "for window in window_list:\n",
    "    if os.path.isdir(f\"simulations/{window}\"):\n",
    "        shutil.rmtree(f\"simulations/{window}\")\n",
    "    os.makedirs(f\"simulations/{window}\")"
   ]
  },
  {
   "cell_type": "markdown",
   "metadata": {},
   "source": [
    "### Translate guest molecule"
   ]
  },
  {
   "cell_type": "code",
   "execution_count": 43,
   "metadata": {},
   "outputs": [
    {
     "name": "stdout",
     "output_type": "stream",
     "text": [
      "In window p000 we will translate the guest 0.0 Angstroms.\n",
      "In window p001 we will translate the guest 0.4 Angstroms.\n",
      "In window p002 we will translate the guest 0.8 Angstroms.\n",
      "In window p003 we will translate the guest 1.2 Angstroms.\n",
      "In window p004 we will translate the guest 1.6 Angstroms.\n",
      "In window p005 we will translate the guest 2.0 Angstroms.\n",
      "In window p006 we will translate the guest 2.4 Angstroms.\n",
      "In window p007 we will translate the guest 2.8 Angstroms.\n",
      "In window p008 we will translate the guest 3.2 Angstroms.\n",
      "In window p009 we will translate the guest 3.6 Angstroms.\n",
      "In window p010 we will translate the guest 4.0 Angstroms.\n",
      "In window p011 we will translate the guest 4.4 Angstroms.\n",
      "In window p012 we will translate the guest 4.8 Angstroms.\n",
      "In window p013 we will translate the guest 5.2 Angstroms.\n",
      "In window p014 we will translate the guest 5.6 Angstroms.\n",
      "In window p015 we will translate the guest 6.0 Angstroms.\n",
      "In window p016 we will translate the guest 6.4 Angstroms.\n",
      "In window p017 we will translate the guest 6.8 Angstroms.\n",
      "In window p018 we will translate the guest 7.2 Angstroms.\n",
      "In window p019 we will translate the guest 7.6 Angstroms.\n",
      "In window p020 we will translate the guest 8.0 Angstroms.\n",
      "In window p021 we will translate the guest 8.4 Angstroms.\n",
      "In window p022 we will translate the guest 8.8 Angstroms.\n",
      "In window p023 we will translate the guest 9.2 Angstroms.\n",
      "In window p024 we will translate the guest 9.6 Angstroms.\n",
      "In window p025 we will translate the guest 10.0 Angstroms.\n",
      "In window p026 we will translate the guest 10.4 Angstroms.\n",
      "In window p027 we will translate the guest 10.8 Angstroms.\n",
      "In window p028 we will translate the guest 11.2 Angstroms.\n",
      "In window p029 we will translate the guest 11.6 Angstroms.\n",
      "In window p030 we will translate the guest 12.0 Angstroms.\n",
      "In window p031 we will translate the guest 12.4 Angstroms.\n",
      "In window p032 we will translate the guest 12.8 Angstroms.\n",
      "In window p033 we will translate the guest 13.2 Angstroms.\n",
      "In window p034 we will translate the guest 13.6 Angstroms.\n",
      "In window p035 we will translate the guest 14.0 Angstroms.\n",
      "In window p036 we will translate the guest 14.4 Angstroms.\n",
      "In window p037 we will translate the guest 14.8 Angstroms.\n",
      "In window p038 we will translate the guest 15.2 Angstroms.\n",
      "In window p039 we will translate the guest 15.6 Angstroms.\n",
      "In window p040 we will translate the guest 16.0 Angstroms.\n",
      "In window p041 we will translate the guest 16.4 Angstroms.\n",
      "In window p042 we will translate the guest 16.8 Angstroms.\n",
      "In window p043 we will translate the guest 17.2 Angstroms.\n",
      "In window p044 we will translate the guest 17.6 Angstroms.\n",
      "In window p045 we will translate the guest 18.0 Angstroms.\n"
     ]
    }
   ],
   "source": [
    "for window in window_list:\n",
    "    if window[0] == \"a\":\n",
    "        shutil.copy(\n",
    "            f\"{tmp_folder}/vac-dum.prmtop\", f\"simulations/{window}/{base_name}.prmtop\"\n",
    "        )\n",
    "        shutil.copy(\n",
    "            f\"{tmp_folder}/vac-dum.rst7\", f\"simulations/{window}/{base_name}.rst7\"\n",
    "        )\n",
    "\n",
    "    elif window[0] == \"p\":\n",
    "        structure = pmd.load_file(\n",
    "            f\"{tmp_folder}/vac-dum.prmtop\", f\"{tmp_folder}/vac-dum.rst7\", structure=True\n",
    "        )\n",
    "        target_difference = (\n",
    "            guest_restraints[0].phase[\"pull\"][\"targets\"][int(window[1:])]\n",
    "            - guest_restraints[0].pull[\"target_initial\"]\n",
    "        )\n",
    "        print(\n",
    "            f\"In window {window} we will translate the guest {target_difference:0.1f} Angstroms.\"\n",
    "        )\n",
    "\n",
    "        for atom in structure.atoms:\n",
    "            if atom.residue.name == guest_resname:\n",
    "                atom.xz += target_difference\n",
    "\n",
    "        structure.save(f\"simulations/{window}/{base_name}.prmtop\", overwrite=True)\n",
    "        structure.save(f\"simulations/{window}/{base_name}.rst7\", overwrite=True)\n",
    "\n",
    "    elif window[0] == \"r\":\n",
    "        last_pull_window = f\"simulations/p0{len(pull_distances)-1}\"\n",
    "        shutil.copy(\n",
    "            f\"{os.path.join(last_pull_window, f'{base_name}.prmtop')}\",\n",
    "            f\"simulations/{window}/{base_name}.prmtop\",\n",
    "        )\n",
    "        shutil.copy(\n",
    "            f\"{os.path.join(last_pull_window, f'{base_name}.rst7')}\",\n",
    "            f\"simulations/{window}/{base_name}.rst7\",\n",
    "        )"
   ]
  },
  {
   "cell_type": "markdown",
   "metadata": {},
   "source": [
    "### Solvate each window"
   ]
  },
  {
   "cell_type": "code",
   "execution_count": 48,
   "metadata": {},
   "outputs": [
    {
     "name": "stderr",
     "output_type": "stream",
     "text": [
      "Exception ignored in: <function tqdm.__del__ at 0x7fc371ef6a60>\n",
      "Traceback (most recent call last):\n",
      "  File \"/Users/jsetiadi/anaconda3/envs/adamanane-paper/lib/python3.8/site-packages/tqdm/std.py\", line 1145, in __del__\n",
      "    self.close()\n",
      "  File \"/Users/jsetiadi/anaconda3/envs/adamanane-paper/lib/python3.8/site-packages/tqdm/notebook.py\", line 283, in close\n",
      "    self.disp(bar_style='danger', check_delay=False)\n",
      "AttributeError: 'tqdm_notebook' object has no attribute 'disp'\n"
     ]
    },
    {
     "name": "stdout",
     "output_type": "stream",
     "text": [
      "Solvating window a000\n",
      "Solvating window a001\n",
      "Solvating window a002\n",
      "Solvating window a003\n",
      "Solvating window a004\n",
      "Solvating window a005\n",
      "Solvating window a006\n",
      "Solvating window a007\n",
      "Solvating window a008\n",
      "Solvating window a009\n",
      "Solvating window a010\n",
      "Solvating window a011\n",
      "Solvating window a012\n",
      "Solvating window a013\n",
      "Solvating window p000\n",
      "Solvating window p001\n",
      "Solvating window p002\n",
      "Solvating window p003\n",
      "Solvating window p004\n",
      "Solvating window p005\n",
      "Solvating window p006\n",
      "Solvating window p007\n",
      "Solvating window p008\n",
      "Solvating window p009\n",
      "Solvating window p010\n",
      "Solvating window p011\n",
      "Solvating window p012\n",
      "Solvating window p013\n",
      "Solvating window p014\n",
      "Solvating window p015\n",
      "Solvating window p016\n",
      "Solvating window p017\n",
      "Solvating window p018\n",
      "Solvating window p019\n",
      "Solvating window p020\n",
      "Solvating window p021\n",
      "Solvating window p022\n",
      "Solvating window p023\n",
      "Solvating window p024\n",
      "Solvating window p025\n",
      "Solvating window p026\n",
      "Solvating window p027\n",
      "Solvating window p028\n",
      "Solvating window p029\n",
      "Solvating window p030\n",
      "Solvating window p031\n",
      "Solvating window p032\n",
      "Solvating window p033\n",
      "Solvating window p034\n",
      "Solvating window p035\n",
      "Solvating window p036\n",
      "Solvating window p037\n",
      "Solvating window p038\n",
      "Solvating window p039\n",
      "Solvating window p040\n",
      "Solvating window p041\n",
      "Solvating window p042\n",
      "Solvating window p043\n",
      "Solvating window p044\n",
      "Solvating window p045\n",
      "Solvating window r001\n",
      "Solvating window r002\n",
      "Solvating window r003\n",
      "Solvating window r004\n",
      "Solvating window r005\n",
      "Solvating window r006\n",
      "Solvating window r007\n",
      "Solvating window r008\n",
      "Solvating window r009\n",
      "Solvating window r010\n",
      "Solvating window r011\n",
      "Solvating window r012\n",
      "Solvating window r013\n",
      "Solvating window r014\n"
     ]
    }
   ],
   "source": [
    "for window in window_list:\n",
    "    structure = pmd.load_file(\n",
    "        f\"simulations/{window}/{base_name}.prmtop\",\n",
    "        f\"simulations/{window}/{base_name}.rst7\",\n",
    "    )\n",
    "\n",
    "    if not os.path.exists(f\"simulations/{window}/{base_name}.pdb\"):\n",
    "        structure.save(f\"simulations/{window}/{base_name}.pdb\", overwrite=True)\n",
    "\n",
    "    print(f\"Solvating window {window}\")\n",
    "\n",
    "    system = TLeap()\n",
    "    system.output_path = f\"simulations/{window}\"\n",
    "    system.output_prefix = f\"{base_name}-sol\"\n",
    "\n",
    "    system.target_waters = n_water\n",
    "    system.pbc_type = PBCBox.rectangular\n",
    "    system.neutralize = True\n",
    "    system.set_water_model(\"tip3p\")\n",
    "\n",
    "    system.template_lines = [\n",
    "        f\"source leaprc.{gaff_version}\",\n",
    "        f\"loadamberparams ../../{structure_folder}/{guest_frcmod}\",\n",
    "        f\"loadamberparams ../../{structure_folder}/{host_frcmod}\",\n",
    "        f\"loadamberparams ../../{tmp_folder}/dummy.frcmod\",\n",
    "        f\"{guest_resname} = loadmol2 ../../{structure_folder}/{guest_mol2}\",\n",
    "        f\"{host_resname} = loadmol2 ../../{structure_folder}/{host_mol2}\",\n",
    "        f\"DM1 = loadmol2 ../../{tmp_folder}/dm1.mol2\",\n",
    "        f\"DM2 = loadmol2 ../../{tmp_folder}/dm2.mol2\",\n",
    "        f\"DM3 = loadmol2 ../../{tmp_folder}/dm3.mol2\",\n",
    "        f\"complex = loadpdb {base_name}.pdb\",\n",
    "    ]\n",
    "    system.build(clean_files=False)"
   ]
  },
  {
   "cell_type": "markdown",
   "metadata": {},
   "source": [
    "### Convert to OpenMM XML"
   ]
  },
  {
   "cell_type": "code",
   "execution_count": 53,
   "metadata": {},
   "outputs": [
    {
     "name": "stdout",
     "output_type": "stream",
     "text": [
      "Creating XML for window a000\n",
      "Creating XML for window a001\n",
      "Creating XML for window a002\n",
      "Creating XML for window a003\n",
      "Creating XML for window a004\n",
      "Creating XML for window a005\n",
      "Creating XML for window a006\n",
      "Creating XML for window a007\n",
      "Creating XML for window a008\n",
      "Creating XML for window a009\n",
      "Creating XML for window a010\n",
      "Creating XML for window a011\n",
      "Creating XML for window a012\n",
      "Creating XML for window a013\n",
      "Creating XML for window p000\n",
      "Creating XML for window p001\n",
      "Creating XML for window p002\n",
      "Creating XML for window p003\n",
      "Creating XML for window p004\n",
      "Creating XML for window p005\n",
      "Creating XML for window p006\n",
      "Creating XML for window p007\n",
      "Creating XML for window p008\n",
      "Creating XML for window p009\n",
      "Creating XML for window p010\n",
      "Creating XML for window p011\n",
      "Creating XML for window p012\n",
      "Creating XML for window p013\n",
      "Creating XML for window p014\n",
      "Creating XML for window p015\n",
      "Creating XML for window p016\n",
      "Creating XML for window p017\n",
      "Creating XML for window p018\n",
      "Creating XML for window p019\n",
      "Creating XML for window p020\n",
      "Creating XML for window p021\n",
      "Creating XML for window p022\n",
      "Creating XML for window p023\n",
      "Creating XML for window p024\n",
      "Creating XML for window p025\n",
      "Creating XML for window p026\n",
      "Creating XML for window p027\n",
      "Creating XML for window p028\n",
      "Creating XML for window p029\n",
      "Creating XML for window p030\n",
      "Creating XML for window p031\n",
      "Creating XML for window p032\n",
      "Creating XML for window p033\n",
      "Creating XML for window p034\n",
      "Creating XML for window p035\n",
      "Creating XML for window p036\n",
      "Creating XML for window p037\n",
      "Creating XML for window p038\n",
      "Creating XML for window p039\n",
      "Creating XML for window p040\n",
      "Creating XML for window p041\n",
      "Creating XML for window p042\n",
      "Creating XML for window p043\n",
      "Creating XML for window p044\n",
      "Creating XML for window p045\n",
      "Creating XML for window r001\n",
      "Creating XML for window r002\n",
      "Creating XML for window r003\n",
      "Creating XML for window r004\n",
      "Creating XML for window r005\n",
      "Creating XML for window r006\n",
      "Creating XML for window r007\n",
      "Creating XML for window r008\n",
      "Creating XML for window r009\n",
      "Creating XML for window r010\n",
      "Creating XML for window r011\n",
      "Creating XML for window r012\n",
      "Creating XML for window r013\n",
      "Creating XML for window r014\n"
     ]
    }
   ],
   "source": [
    "for window in window_list:\n",
    "    work_folder = f\"simulations/{window}\"\n",
    "    print(f\"Creating XML for window {window}\")\n",
    "\n",
    "    window_number, phase = restraints.utils.parse_window(window)\n",
    "\n",
    "    # Load Amber\n",
    "    prmtop = app.AmberPrmtopFile(os.path.join(work_folder, f\"{base_name}-sol.prmtop\"))\n",
    "    inpcrd = app.AmberInpcrdFile(os.path.join(work_folder, f\"{base_name}-sol.rst7\"))\n",
    "\n",
    "    # Shift system\n",
    "    shift_xyz = unit.Quantity(\n",
    "        value=openmm.Vec3(x=-2.0, y=-2.0, z=-5.0), unit=unit.angstrom\n",
    "    )\n",
    "    center_position = unit.Quantity(\n",
    "        value=openmm.Vec3(x=0.0, y=0.0, z=0.0), unit=unit.angstrom\n",
    "    )\n",
    "    n_atoms = 0\n",
    "    for atom, position in zip(prmtop.topology.atoms(), inpcrd.positions):\n",
    "        if atom.residue.name in [guest_resname, host_resname]:\n",
    "            n_atoms += 1\n",
    "            center_position += position\n",
    "    if n_atoms == 0:\n",
    "        n_atoms = 1\n",
    "    center_position /= n_atoms\n",
    "\n",
    "    cell_vectors = prmtop.topology.getPeriodicBoxVectors()\n",
    "    new_positions = []\n",
    "\n",
    "    for position in inpcrd.positions:\n",
    "        position += -1 * center_position\n",
    "        position += shift_xyz\n",
    "\n",
    "        position += cell_vectors[0] / 2.0\n",
    "        position += cell_vectors[1] / 2.0\n",
    "        position += cell_vectors[2] / 2.0\n",
    "\n",
    "        new_positions.append(position.value_in_unit(unit.angstrom))\n",
    "\n",
    "    with open(os.path.join(work_folder, \"restrained.pdb\"), \"w+\") as file:\n",
    "        app.PDBFile.writeFile(\n",
    "            prmtop.topology,\n",
    "            new_positions * unit.angstrom,\n",
    "            file,\n",
    "            keepIds=True,\n",
    "        )\n",
    "\n",
    "    # Create OpenMM system\n",
    "    system = prmtop.createSystem(\n",
    "        nonbondedMethod=app.PME,\n",
    "        nonbondedCutoff=9.0 * unit.angstrom,\n",
    "        constraints=app.HBonds,\n",
    "        rigidWater=True,\n",
    "    )\n",
    "\n",
    "    # Apply APR restraints\n",
    "    for restraint in static_restraints:\n",
    "        apply_dat_restraint(system, restraint, phase, window_number, force_group=10)\n",
    "    for restraint in host_restraints:\n",
    "        apply_dat_restraint(system, restraint, phase, window_number, force_group=11)\n",
    "    for restraint in guest_restraints:\n",
    "        apply_dat_restraint(system, restraint, phase, window_number, force_group=12)\n",
    "\n",
    "    apply_positional_restraints(f\"{work_folder}/restrained.pdb\", system, force_group=15)\n",
    "\n",
    "    # Update XML object\n",
    "    system_xml = openmm.XmlSerializer.serialize(system)\n",
    "    with open(os.path.join(work_folder, \"restrained.xml\"), \"w\") as file:\n",
    "        file.write(system_xml)"
   ]
  },
  {
   "cell_type": "code",
   "execution_count": null,
   "metadata": {},
   "outputs": [],
   "source": []
  }
 ],
 "metadata": {
  "kernelspec": {
   "display_name": "Python 3 (ipykernel)",
   "language": "python",
   "name": "python3"
  },
  "language_info": {
   "codemirror_mode": {
    "name": "ipython",
    "version": 3
   },
   "file_extension": ".py",
   "mimetype": "text/x-python",
   "name": "python",
   "nbconvert_exporter": "python",
   "pygments_lexer": "ipython3",
   "version": "3.8.17"
  }
 },
 "nbformat": 4,
 "nbformat_minor": 4
}
