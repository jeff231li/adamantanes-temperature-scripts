{
 "cells": [
  {
   "cell_type": "code",
   "execution_count": 1,
   "metadata": {},
   "outputs": [],
   "source": [
    "import json\n",
    "\n",
    "import matplotlib.pyplot as plt\n",
    "import numpy as np\n",
    "import parmed as pmd\n",
    "from paprika.analysis import fe_calc\n",
    "from paprika.io import NumpyEncoder, load_restraints\n",
    "from paprika.restraints.utils import extract_guest_restraints"
   ]
  },
  {
   "cell_type": "markdown",
   "metadata": {},
   "source": [
    "### Initialize"
   ]
  },
  {
   "cell_type": "code",
   "execution_count": 2,
   "metadata": {},
   "outputs": [],
   "source": [
    "base_name = \"CB7-AMT-sol\"\n",
    "guest_resname = \"AMT\"\n",
    "structure = pmd.load_file(\n",
    "    f\"{tmp_folder}/vac-dum.prmtop\", f\"{tmp_folder}/vac-dum.pdb\", structure=True\n",
    ")\n",
    "restraints = load_restraints(filepath=\"restraints.json\")\n",
    "guest_restraints = extract_guest_restraints(structure, restraints, guest_resname)"
   ]
  },
  {
   "cell_type": "markdown",
   "metadata": {},
   "source": [
    "### Calculate free enegy"
   ]
  },
  {
   "cell_type": "code",
   "execution_count": 3,
   "metadata": {},
   "outputs": [],
   "source": [
    "free_energy = fe_calc()\n",
    "free_energy.temperature = 298.15\n",
    "free_energy.prmtop = \"restrained.pdb\"\n",
    "free_energy.trajectory = \"production.dcd\"\n",
    "free_energy.path = \"simulations\"\n",
    "free_energy.restraint_list = restraints\n",
    "free_energy.collect_data()\n",
    "free_energy.methods = [\"ti-block\"]\n",
    "free_energy.ti_matrix = \"diagonal\"\n",
    "free_energy.compute_roi = True\n",
    "free_energy.bootcycles = 2000\n",
    "free_energy.compute_free_energy()\n",
    "free_energy.compute_ref_state_work(guest_restraints)"
   ]
  },
  {
   "cell_type": "markdown",
   "metadata": {},
   "source": [
    "### Save results"
   ]
  },
  {
   "cell_type": "code",
   "execution_count": 4,
   "metadata": {},
   "outputs": [],
   "source": [
    "with open(\"binding_results.json\", \"w\") as f:\n",
    "    dumped = json.dumps(free_energy.results, cls=NumpyEncoder)\n",
    "    f.write(dumped)"
   ]
  },
  {
   "cell_type": "markdown",
   "metadata": {},
   "source": [
    "### Binding free-energy"
   ]
  },
  {
   "cell_type": "code",
   "execution_count": 5,
   "metadata": {},
   "outputs": [],
   "source": [
    "fe_a = free_energy.results[\"attach\"][\"ti-block\"][\"fe\"]\n",
    "sem_a = free_energy.results[\"attach\"][\"ti-block\"][\"sem\"]\n",
    "roi_a = free_energy.results[\"attach\"][\"ti-block\"][\"roi\"]\n",
    "fe_p = free_energy.results[\"pull\"][\"ti-block\"][\"fe\"]\n",
    "sem_p = free_energy.results[\"pull\"][\"ti-block\"][\"sem\"]\n",
    "roi_p = free_energy.results[\"pull\"][\"ti-block\"][\"roi\"]\n",
    "fe_r = free_energy.results[\"release\"][\"ti-block\"][\"fe\"]\n",
    "sem_r = free_energy.results[\"release\"][\"ti-block\"][\"sem\"]\n",
    "roi_r = free_energy.results[\"release\"][\"ti-block\"][\"roi\"]\n",
    "fe_ref = free_energy.results[\"ref_state_work\"]\n",
    "\n",
    "binding = -1 * (\n",
    "    free_energy.results[\"attach\"][\"ti-block\"][\"fe\"]\n",
    "    + free_energy.results[\"pull\"][\"ti-block\"][\"fe\"]\n",
    "    - free_energy.results[\"release\"][\"ti-block\"][\"fe\"]\n",
    "    + free_energy.results[\"ref_state_work\"]\n",
    ")\n",
    "\n",
    "sem = np.sqrt(\n",
    "    free_energy.results[\"attach\"][\"ti-block\"][\"sem\"] ** 2\n",
    "    + free_energy.results[\"pull\"][\"ti-block\"][\"sem\"] ** 2\n",
    "    + free_energy.results[\"release\"][\"ti-block\"][\"sem\"] ** 2\n",
    ")"
   ]
  },
  {
   "cell_type": "code",
   "execution_count": 6,
   "metadata": {},
   "outputs": [
    {
     "name": "stdout",
     "output_type": "stream",
     "text": [
      "Attach free-energy  = 952.61 +/- 0.10 kcal/mol\n",
      "Pull free-energy    = 12.94 +/- 0.33 kcal/mol\n",
      "Release free-energy = 935.29 +/- 0.06 kcal/mol\n",
      "Ref state-work      = -7.14\n",
      "Binding free-energy = -23.12 +/- 0.35 kcal/mol\n"
     ]
    }
   ],
   "source": [
    "print(f\"Attach free-energy  = {fe_a:0.2f} +/- {sem_a:0.2f} kcal/mol\")\n",
    "print(f\"Pull free-energy    = {fe_p:0.2f} +/- {sem_p:0.2f} kcal/mol\")\n",
    "print(f\"Release free-energy = {fe_r:0.2f} +/- {sem_r:0.2f} kcal/mol\")\n",
    "print(f\"Ref state-work      = {fe_ref:0.2f}\")\n",
    "print(\"-\" * 30)\n",
    "print(f\"Binding free-energy = {binding:0.2f} +/- {sem:0.2f} kcal/mol\")"
   ]
  },
  {
   "cell_type": "markdown",
   "metadata": {},
   "source": [
    "### Free-energy plots"
   ]
  },
  {
   "cell_type": "code",
   "execution_count": 7,
   "metadata": {},
   "outputs": [
    {
     "data": {
      "text/plain": [
       "Text(0.5, 1.0, 'Release phase')"
      ]
     },
     "execution_count": 7,
     "metadata": {},
     "output_type": "execute_result"
    },
    {
     "data": {
      "image/png": "[encoded data removed]",
      "text/plain": [
       "<Figure size 1152x288 with 3 Axes>"
      ]
     },
     "metadata": {
      "needs_background": "light"
     },
     "output_type": "display_data"
    }
   ],
   "source": [
    "plt.figure(figsize=(16, 4))\n",
    "plt.subplot(1, 3, 1)\n",
    "plt.errorbar(\n",
    "    range(len(free_energy.results[\"attach\"][\"ti-block\"][\"fe_matrix\"][0, :])),\n",
    "    free_energy.results[\"attach\"][\"ti-block\"][\"fe_matrix\"][0, :],\n",
    "    yerr=free_energy.results[\"attach\"][\"ti-block\"][\"sem_matrix\"][0, :],\n",
    "    fmt=\".-\",\n",
    ")\n",
    "plt.ylabel(r\"$\\Delta G$ (kcal/mol)\")\n",
    "plt.title(\"Attach phase\")\n",
    "\n",
    "plt.subplot(1, 3, 2)\n",
    "plt.errorbar(\n",
    "    range(len(free_energy.results[\"pull\"][\"ti-block\"][\"fe_matrix\"][0, :])),\n",
    "    free_energy.results[\"pull\"][\"ti-block\"][\"fe_matrix\"][0, :],\n",
    "    yerr=free_energy.results[\"pull\"][\"ti-block\"][\"sem_matrix\"][0, :],\n",
    "    fmt=\".-\",\n",
    ")\n",
    "plt.ylabel(r\"$\\Delta G$ (kcal/mol)\")\n",
    "plt.title(\"Pull phase\")\n",
    "\n",
    "plt.subplot(1, 3, 3)\n",
    "plt.errorbar(\n",
    "    range(len(free_energy.results[\"release\"][\"ti-block\"][\"fe_matrix\"][0, :])),\n",
    "    free_energy.results[\"release\"][\"ti-block\"][\"fe_matrix\"][0, :],\n",
    "    yerr=free_energy.results[\"release\"][\"ti-block\"][\"sem_matrix\"][0, :],\n",
    "    fmt=\".-\",\n",
    ")\n",
    "plt.ylabel(r\"$\\Delta G$ (kcal/mol)\")\n",
    "plt.title(\"Release phase\")"
   ]
  },
  {
   "cell_type": "code",
   "execution_count": null,
   "metadata": {},
   "outputs": [],
   "source": []
  }
 ],
 "metadata": {
  "kernelspec": {
   "display_name": "Python 3 (ipykernel)",
   "language": "python",
   "name": "python3"
  },
  "language_info": {
   "codemirror_mode": {
    "name": "ipython",
    "version": 3
   },
   "file_extension": ".py",
   "mimetype": "text/x-python",
   "name": "python",
   "nbconvert_exporter": "python",
   "pygments_lexer": "ipython3",
   "version": "3.8.17"
  }
 },
 "nbformat": 4,
 "nbformat_minor": 4
}
