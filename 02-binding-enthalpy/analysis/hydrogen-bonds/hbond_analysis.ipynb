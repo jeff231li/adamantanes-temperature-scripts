{
 "cells": [
  {
   "cell_type": "code",
   "execution_count": 1,
   "id": "39f57f15",
   "metadata": {},
   "outputs": [
    {
     "name": "stderr",
     "output_type": "stream",
     "text": [
      "Warning on use of the timeseries module: If the inherent timescales of the system are long compared to those being analyzed, this statistical inefficiency may be an underestimate.  The estimate presumes the use of many statistically independent samples.  Tests should be performed to assess whether this condition is satisfied.   Be cautious in the interpretation of the data.\n",
      "Warning: importing 'simtk.openmm' is deprecated.  Import 'openmm' instead.\n"
     ]
    }
   ],
   "source": [
    "import json\n",
    "\n",
    "import numpy as np\n",
    "import pandas as pd\n",
    "from MDAnalysis import Universe\n",
    "from MDAnalysis.analysis.hydrogenbonds import HydrogenBondAnalysis\n",
    "\n",
    "from paprika.io import NumpyEncoder"
   ]
  },
  {
   "cell_type": "markdown",
   "id": "461ee2b8",
   "metadata": {},
   "source": [
    "## Init"
   ]
  },
  {
   "cell_type": "code",
   "execution_count": 2,
   "id": "5aabe28a",
   "metadata": {},
   "outputs": [],
   "source": [
    "host_resname = \"CB7\"\n",
    "guest_resname = \"AMT\"\n",
    "solvent_resname = \"WAT\"\n",
    "\n",
    "results = {\n",
    "    \"bound\": {\"time\": None, \"H-G\": None, \"H-W\": None, \"G-W\": None, \"W-W\": None},\n",
    "    \"unbound\": {\"time\": None, \"H-W\": None, \"G-W\": None, \"W-W\": None},\n",
    "}"
   ]
  },
  {
   "cell_type": "markdown",
   "source": [
    "### HBonds criteria"
   ],
   "metadata": {
    "collapsed": false
   }
  },
  {
   "cell_type": "code",
   "execution_count": 3,
   "id": "d5dba36f",
   "metadata": {},
   "outputs": [],
   "source": [
    "distance_cutoff = 3.0\n",
    "angle_cutoff = 150"
   ]
  },
  {
   "cell_type": "markdown",
   "id": "f1952ae9",
   "metadata": {},
   "source": [
    "## Load Trajectories"
   ]
  },
  {
   "cell_type": "code",
   "execution_count": 4,
   "id": "53f310e7",
   "metadata": {},
   "outputs": [
    {
     "name": "stderr",
     "output_type": "stream",
     "text": [
      "/home/jsetiadi/anaconda3/envs/paprika-dev/lib/python3.8/site-packages/MDAnalysis/topology/TOPParser.py:295: UserWarning: Unknown ATOMIC_NUMBER value found for some atoms, these have been given an empty element record. If needed these can be guessed using MDAnalysis.topology.guessers.\n",
      "  warnings.warn(msg)\n"
     ]
    }
   ],
   "source": [
    "universe_bound = Universe(\n",
    "    f\"../../simulations/a000/{host_resname}-{guest_resname}-sol.prmtop\",\n",
    "    \"../../simulations/a000/production.dcd\",\n",
    "    in_memory=False,\n",
    ")"
   ]
  },
  {
   "cell_type": "code",
   "execution_count": 5,
   "id": "c7bba7cf",
   "metadata": {},
   "outputs": [],
   "source": [
    "universe_unbound = Universe(\n",
    "    f\"../../simulations/r014/{host_resname}-{guest_resname}-sol.prmtop\",\n",
    "    \"../../simulations/r014/production.dcd\",\n",
    "    in_memory=False,\n",
    ")"
   ]
  },
  {
   "cell_type": "markdown",
   "id": "1cca3c2b",
   "metadata": {},
   "source": [
    "## HBonds in complex state"
   ]
  },
  {
   "cell_type": "code",
   "execution_count": 6,
   "id": "bb21dd55",
   "metadata": {},
   "outputs": [
    {
     "data": {
      "application/vnd.jupyter.widget-view+json": {
       "model_id": "7ef4ed9da6394035b23c55f2e81c031d",
       "version_major": 2,
       "version_minor": 0
      },
      "text/plain": [
       "  0%|          | 0/100000 [00:00<?, ?it/s]"
      ]
     },
     "metadata": {},
     "output_type": "display_data"
    },
    {
     "data": {
      "text/plain": [
       "<MDAnalysis.analysis.hydrogenbonds.hbond_analysis.HydrogenBondAnalysis at 0x7f65ab345820>"
      ]
     },
     "execution_count": 6,
     "metadata": {},
     "output_type": "execute_result"
    }
   ],
   "source": [
    "hbonds_bound_HG = HydrogenBondAnalysis(\n",
    "    universe=universe_bound,\n",
    "    between=[\n",
    "        [f\"resname {host_resname}\", f\"resname {guest_resname}\"],\n",
    "    ],\n",
    "    d_a_cutoff=distance_cutoff,\n",
    "    d_h_a_angle_cutoff=angle_cutoff,\n",
    "    update_selections=False,\n",
    ")\n",
    "hbonds_bound_HG.run(verbose=True)"
   ]
  },
  {
   "cell_type": "code",
   "execution_count": 7,
   "id": "011198f4",
   "metadata": {},
   "outputs": [
    {
     "data": {
      "application/vnd.jupyter.widget-view+json": {
       "model_id": "75c6d96c43924a8185e1cbb1f8edaf73",
       "version_major": 2,
       "version_minor": 0
      },
      "text/plain": [
       "  0%|          | 0/100000 [00:00<?, ?it/s]"
      ]
     },
     "metadata": {},
     "output_type": "display_data"
    },
    {
     "data": {
      "text/plain": [
       "<MDAnalysis.analysis.hydrogenbonds.hbond_analysis.HydrogenBondAnalysis at 0x7f65ab3457f0>"
      ]
     },
     "execution_count": 7,
     "metadata": {},
     "output_type": "execute_result"
    }
   ],
   "source": [
    "hbonds_bound_HW = HydrogenBondAnalysis(\n",
    "    universe=universe_bound,\n",
    "    between=[\n",
    "        [f\"resname {host_resname}\", f\"resname {solvent_resname}\"],\n",
    "    ],\n",
    "    d_a_cutoff=distance_cutoff,\n",
    "    d_h_a_angle_cutoff=angle_cutoff,\n",
    "    update_selections=False,\n",
    ")\n",
    "hbonds_bound_HW.run(verbose=True)"
   ]
  },
  {
   "cell_type": "code",
   "execution_count": 8,
   "id": "03367347",
   "metadata": {},
   "outputs": [
    {
     "data": {
      "application/vnd.jupyter.widget-view+json": {
       "model_id": "da05e18f8b844122ac5cbad1e5e50196",
       "version_major": 2,
       "version_minor": 0
      },
      "text/plain": [
       "  0%|          | 0/100000 [00:00<?, ?it/s]"
      ]
     },
     "metadata": {},
     "output_type": "display_data"
    },
    {
     "data": {
      "text/plain": [
       "<MDAnalysis.analysis.hydrogenbonds.hbond_analysis.HydrogenBondAnalysis at 0x7f65aafb3ca0>"
      ]
     },
     "execution_count": 8,
     "metadata": {},
     "output_type": "execute_result"
    }
   ],
   "source": [
    "hbonds_bound_GW = HydrogenBondAnalysis(\n",
    "    universe=universe_bound,\n",
    "    between=[\n",
    "        [f\"resname {guest_resname}\", f\"resname {solvent_resname}\"],\n",
    "    ],\n",
    "    d_a_cutoff=distance_cutoff,\n",
    "    d_h_a_angle_cutoff=angle_cutoff,\n",
    "    update_selections=False,\n",
    ")\n",
    "hbonds_bound_GW.run(verbose=True)"
   ]
  },
  {
   "cell_type": "code",
   "execution_count": null,
   "id": "cadbfdc9",
   "metadata": {},
   "outputs": [
    {
     "data": {
      "application/vnd.jupyter.widget-view+json": {
       "model_id": "5a3bac1111824e2c942a7c36ff1ee742",
       "version_major": 2,
       "version_minor": 0
      },
      "text/plain": [
       "  0%|          | 0/100000 [00:00<?, ?it/s]"
      ]
     },
     "metadata": {},
     "output_type": "display_data"
    }
   ],
   "source": [
    "hbonds_bound_WW = HydrogenBondAnalysis(\n",
    "    universe=universe_bound,\n",
    "    between=[\n",
    "        [f\"resname {solvent_resname}\", f\"resname {solvent_resname}\"],\n",
    "    ],\n",
    "    d_a_cutoff=distance_cutoff,\n",
    "    d_h_a_angle_cutoff=angle_cutoff,\n",
    "    update_selections=False,\n",
    ")\n",
    "hbonds_bound_WW.run(verbose=True)"
   ]
  },
  {
   "cell_type": "markdown",
   "id": "38fcf79d",
   "metadata": {},
   "source": [
    "## HBonds in unbound state"
   ]
  },
  {
   "cell_type": "code",
   "execution_count": null,
   "id": "086074db",
   "metadata": {},
   "outputs": [],
   "source": [
    "hbonds_unbound_HW = HydrogenBondAnalysis(\n",
    "    universe=universe_unbound,\n",
    "    between=[\n",
    "        [f\"resname {host_resname}\", f\"resname {solvent_resname}\"],\n",
    "    ],\n",
    "    d_a_cutoff=distance_cutoff,\n",
    "    d_h_a_angle_cutoff=angle_cutoff,\n",
    "    update_selections=False,\n",
    ")\n",
    "hbonds_unbound_HW.run(verbose=True)"
   ]
  },
  {
   "cell_type": "code",
   "execution_count": null,
   "id": "76eaf682",
   "metadata": {},
   "outputs": [],
   "source": [
    "hbonds_unbound_GW = HydrogenBondAnalysis(\n",
    "    universe=universe_unbound,\n",
    "    between=[\n",
    "        [f\"resname {guest_resname}\", f\"resname {solvent_resname}\"],\n",
    "    ],\n",
    "    d_a_cutoff=distance_cutoff,\n",
    "    d_h_a_angle_cutoff=angle_cutoff,\n",
    "    update_selections=False,\n",
    ")\n",
    "hbonds_unbound_GW.run(verbose=True)"
   ]
  },
  {
   "cell_type": "code",
   "execution_count": null,
   "id": "17cfc3f5",
   "metadata": {},
   "outputs": [],
   "source": [
    "hbonds_unbound_WW = HydrogenBondAnalysis(\n",
    "    universe=universe_unbound,\n",
    "    between=[\n",
    "        [f\"resname {solvent_resname}\", f\"resname {solvent_resname}\"],\n",
    "    ],\n",
    "    d_a_cutoff=distance_cutoff,\n",
    "    d_h_a_angle_cutoff=angle_cutoff,\n",
    "    update_selections=False,\n",
    ")\n",
    "hbonds_unbound_WW.run(verbose=True)"
   ]
  },
  {
   "cell_type": "markdown",
   "id": "5ed9403e",
   "metadata": {},
   "source": [
    "### Results"
   ]
  },
  {
   "cell_type": "code",
   "execution_count": null,
   "id": "68adcaf5",
   "metadata": {},
   "outputs": [],
   "source": [
    "results[\"bound\"][\"H-G\"] = hbonds_bound_HG.count_by_time()\n",
    "results[\"bound\"][\"H-W\"] = hbonds_bound_HW.count_by_time()\n",
    "results[\"bound\"][\"G-W\"] = hbonds_bound_GW.count_by_time()\n",
    "results[\"bound\"][\"W-W\"] = hbonds_bound_WW.count_by_time()\n",
    "\n",
    "results[\"unbound\"][\"H-W\"] = hbonds_unbound_HW.count_by_time()\n",
    "results[\"unbound\"][\"G-W\"] = hbonds_unbound_GW.count_by_time()\n",
    "results[\"unbound\"][\"W-W\"] = hbonds_unbound_WW.count_by_time()\n",
    "\n",
    "\n",
    "results[\"bound\"][\"time\"] = (\n",
    "    np.arange(0, len(results[\"bound\"][\"H-G\"]) + 1, 1) * universe_bound.trajectory.dt\n",
    ")\n",
    "\n",
    "results[\"unbound\"][\"time\"] = (\n",
    "    np.arange(0, len(results[\"unbound\"][\"H-W\"]) + 1, 1) * universe_unbound.trajectory.dt\n",
    ")"
   ]
  },
  {
   "cell_type": "code",
   "execution_count": null,
   "id": "e33bd537",
   "metadata": {},
   "outputs": [],
   "source": [
    "data = [\n",
    "    {\n",
    "        \"H-G (bound)\": results[\"bound\"][\"H-G\"].mean(),\n",
    "        \"H-W (bound)\": results[\"bound\"][\"H-W\"].mean(),\n",
    "        \"G-W (bound)\": results[\"bound\"][\"G-W\"].mean(),\n",
    "        \"W-W (bound)\": results[\"bound\"][\"W-W\"].mean(),\n",
    "        \"H-W (unbound)\": results[\"unbound\"][\"H-W\"].mean(),\n",
    "        \"G-W (unbound)\": results[\"unbound\"][\"G-W\"].mean(),\n",
    "        \"W-W (unbound)\": results[\"unbound\"][\"W-W\"].mean(),\n",
    "    }\n",
    "]\n",
    "\n",
    "df = pd.DataFrame(data)\n",
    "df"
   ]
  },
  {
   "cell_type": "markdown",
   "source": [
    "### Save results to file"
   ],
   "metadata": {
    "collapsed": false
   }
  },
  {
   "cell_type": "code",
   "execution_count": null,
   "id": "c528af59",
   "metadata": {},
   "outputs": [],
   "source": [
    "df.to_csv(\"hbonds_results.csv\")\n",
    "\n",
    "with open(\"hbonds_results.json\", \"w\") as f:\n",
    "    dumped = json.dumps(results, cls=NumpyEncoder)\n",
    "    f.write(dumped)"
   ]
  },
  {
   "cell_type": "code",
   "execution_count": null,
   "id": "5ef2d431",
   "metadata": {},
   "outputs": [],
   "source": []
  }
 ],
 "metadata": {
  "kernelspec": {
   "display_name": "Python 3 (ipykernel)",
   "language": "python",
   "name": "python3"
  },
  "language_info": {
   "codemirror_mode": {
    "name": "ipython",
    "version": 3
   },
   "file_extension": ".py",
   "mimetype": "text/x-python",
   "name": "python",
   "nbconvert_exporter": "python",
   "pygments_lexer": "ipython3",
   "version": "3.9.16"
  }
 },
 "nbformat": 4,
 "nbformat_minor": 5
}
