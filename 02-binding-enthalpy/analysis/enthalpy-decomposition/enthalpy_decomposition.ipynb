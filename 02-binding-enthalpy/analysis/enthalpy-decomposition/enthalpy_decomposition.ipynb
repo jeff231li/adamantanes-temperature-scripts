{
 "cells": [
  {
   "cell_type": "code",
   "execution_count": 1,
   "id": "19c8d162-d318-4238-a935-3c703ec5983c",
   "metadata": {},
   "outputs": [],
   "source": [
    "import json\n",
    "\n",
    "from paprika.io import json_numpy_obj_hook"
   ]
  },
  {
   "cell_type": "markdown",
   "id": "ef2b3e20-7287-4d52-b660-4b28ff293679",
   "metadata": {},
   "source": [
    "## Load Data"
   ]
  },
  {
   "cell_type": "code",
   "execution_count": 2,
   "id": "255e1492-b262-4d67-af9d-27951eba2261",
   "metadata": {},
   "outputs": [],
   "source": [
    "with open(\"potential-decomposition-a000.json\", \"r\") as file:\n",
    "    potential_bound = json.load(file, object_hook=json_numpy_obj_hook)\n",
    "\n",
    "with open(\"potential-decomposition-r014.json\", \"r\") as file:\n",
    "    potential_unbound = json.load(file, object_hook=json_numpy_obj_hook)"
   ]
  },
  {
   "cell_type": "markdown",
   "id": "d97bb024-7343-420c-875f-e95cd4410bcd",
   "metadata": {},
   "source": [
    "## Estimate Enthalpy"
   ]
  },
  {
   "cell_type": "code",
   "execution_count": 3,
   "id": "c5641251-2e5d-45e4-8f59-fb1899ac9eeb",
   "metadata": {},
   "outputs": [],
   "source": [
    "binding_enthalpy = {\n",
    "    \"host-guest\": None,\n",
    "    \"complex-solvent\": None,\n",
    "    \"solvent-solvent\": None,\n",
    "    \"total\": None,\n",
    "}\n",
    "\n",
    "# Valence terms\n",
    "valence_bound = (\n",
    "    potential_bound[\"bond\"].mean()\n",
    "    + potential_bound[\"angle\"].mean()\n",
    "    + potential_bound[\"dihedral\"].mean()\n",
    ")\n",
    "valence_unbound = (\n",
    "    potential_unbound[\"bond\"].mean()\n",
    "    + potential_unbound[\"angle\"].mean()\n",
    "    + potential_unbound[\"dihedral\"].mean()\n",
    ")\n",
    "\n",
    "# total enthalpy\n",
    "total_bound = valence_bound + potential_bound[\"nonbonded\"].mean()\n",
    "total_unbound = valence_unbound + potential_unbound[\"nonbonded\"].mean()\n",
    "binding_enthalpy[\"total\"] = total_bound - total_unbound\n",
    "\n",
    "# solvent-solvent terms\n",
    "solvent_bound = potential_bound[\"solvent\"].mean()\n",
    "solvent_unbound = potential_unbound[\"solvent\"].mean()\n",
    "binding_enthalpy[\"solvent-solvent\"] = solvent_bound - solvent_unbound\n",
    "\n",
    "# host-guest solute terms\n",
    "complex_bound = potential_bound[\"complex\"].mean() + valence_bound\n",
    "complex_unbound = potential_unbound[\"complex\"].mean() + valence_unbound\n",
    "binding_enthalpy[\"host-guest\"] = complex_bound - complex_unbound\n",
    "\n",
    "# solute-solvent terms\n",
    "binding_enthalpy[\"complex-solvent\"] = binding_enthalpy[\"total\"] - (\n",
    "    binding_enthalpy[\"solvent-solvent\"] + binding_enthalpy[\"host-guest\"]\n",
    ")\n",
    "\n",
    "# Desolvation term\n",
    "binding_enthalpy[\"desolvation\"] = (\n",
    "    binding_enthalpy[\"complex-solvent\"] + binding_enthalpy[\"solvent-solvent\"]\n",
    ")"
   ]
  },
  {
   "cell_type": "code",
   "execution_count": 4,
   "id": "251d45a3-7459-47d5-a502-7bc6990cf182",
   "metadata": {},
   "outputs": [
    {
     "name": "stdout",
     "output_type": "stream",
     "text": [
      "Host-Guest Enthalpy  : -40.30 kcal/mol\n",
      "Desolvation Enthalpy :  14.43 kcal/mol\n",
      "------------------------------------------\n",
      "Total Enthalpy       : -25.87 kcal/mol\n"
     ]
    }
   ],
   "source": [
    "print(f\"Host-Guest Enthalpy  : {binding_enthalpy['host-guest']:>6.2f} kcal/mol\")\n",
    "print(f\"Desolvation Enthalpy : {binding_enthalpy['desolvation']:>6.2f} kcal/mol\")\n",
    "print(f\"------------------------------------------\")\n",
    "print(f\"Total Enthalpy       : {binding_enthalpy['total']:>6.2f} kcal/mol\")"
   ]
  },
  {
   "cell_type": "code",
   "execution_count": null,
   "id": "aa6d7f5b-b10a-4d76-b3c2-f09fd2dbaba5",
   "metadata": {},
   "outputs": [],
   "source": []
  }
 ],
 "metadata": {
  "kernelspec": {
   "display_name": "Python 3 (ipykernel)",
   "language": "python",
   "name": "python3"
  },
  "language_info": {
   "codemirror_mode": {
    "name": "ipython",
    "version": 3
   },
   "file_extension": ".py",
   "mimetype": "text/x-python",
   "name": "python",
   "nbconvert_exporter": "python",
   "pygments_lexer": "ipython3",
   "version": "3.9.16"
  }
 },
 "nbformat": 4,
 "nbformat_minor": 5
}
