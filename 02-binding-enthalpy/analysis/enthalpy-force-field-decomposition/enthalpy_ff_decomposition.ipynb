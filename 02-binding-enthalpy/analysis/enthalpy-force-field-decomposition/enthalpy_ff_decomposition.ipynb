{
 "cells": [
  {
   "cell_type": "code",
   "execution_count": 1,
   "id": "bcba54b1",
   "metadata": {},
   "outputs": [],
   "source": [
    "import json\n",
    "\n",
    "import numpy as np\n",
    "from paprika.analysis import get_block_sem, get_nearest_max\n",
    "from paprika.io import json_numpy_obj_hook"
   ]
  },
  {
   "cell_type": "code",
   "execution_count": 2,
   "id": "97941c6a",
   "metadata": {},
   "outputs": [],
   "source": [
    "def block_sem(data):\n",
    "    avgs = np.mean(data)\n",
    "    totn = data.size\n",
    "    blkn = get_nearest_max(totn)\n",
    "    sems = get_block_sem(data[:blkn])\n",
    "\n",
    "    return [avgs, sems]"
   ]
  },
  {
   "cell_type": "markdown",
   "source": [
    "### Load Data"
   ],
   "metadata": {
    "collapsed": false
   }
  },
  {
   "cell_type": "code",
   "execution_count": 3,
   "id": "9b19291d",
   "metadata": {},
   "outputs": [],
   "source": [
    "with open(\"potential_decomposition-a000.json\", \"r\") as f:\n",
    "    bound = json.load(f, object_hook=json_numpy_obj_hook)"
   ]
  },
  {
   "cell_type": "code",
   "execution_count": 4,
   "id": "66630aec",
   "metadata": {},
   "outputs": [],
   "source": [
    "with open(\"potential_decomposition-r014.json\", \"r\") as f:\n",
    "    unbound = json.load(f, object_hook=json_numpy_obj_hook)"
   ]
  },
  {
   "cell_type": "code",
   "execution_count": 5,
   "id": "f95c1ea5",
   "metadata": {},
   "outputs": [],
   "source": [
    "bound_potential = (\n",
    "    bound[\"bond\"]\n",
    "    + bound[\"angle\"]\n",
    "    + bound[\"dihedral\"]\n",
    "    + bound[\"Elec\"]\n",
    "    + bound[\"Elec14\"]\n",
    "    + bound[\"LJ\"]\n",
    "    + bound[\"LJ14\"]\n",
    ")\n",
    "unbound_potential = (\n",
    "    unbound[\"bond\"]\n",
    "    + unbound[\"angle\"]\n",
    "    + unbound[\"dihedral\"]\n",
    "    + unbound[\"Elec\"]\n",
    "    + unbound[\"Elec14\"]\n",
    "    + unbound[\"LJ\"]\n",
    "    + unbound[\"LJ14\"]\n",
    ")\n",
    "enthalpy = {key: np.mean(bound[key]) - np.mean(unbound[key]) for key in bound}"
   ]
  },
  {
   "cell_type": "markdown",
   "source": [
    "### Valence term"
   ],
   "metadata": {
    "collapsed": false
   }
  },
  {
   "cell_type": "code",
   "execution_count": 6,
   "id": "0658dbd4",
   "metadata": {},
   "outputs": [
    {
     "data": {
      "text/plain": [
       "-2.0732016404146165"
      ]
     },
     "execution_count": 6,
     "metadata": {},
     "output_type": "execute_result"
    }
   ],
   "source": [
    "valence = enthalpy[\"bond\"] + enthalpy[\"angle\"] + enthalpy[\"dihedral\"]\n",
    "valence"
   ]
  },
  {
   "cell_type": "markdown",
   "source": [
    "### Lennard-Jones term"
   ],
   "metadata": {
    "collapsed": false
   }
  },
  {
   "cell_type": "code",
   "execution_count": 7,
   "id": "feecceef",
   "metadata": {},
   "outputs": [
    {
     "data": {
      "text/plain": [
       "-14.378978995981672"
      ]
     },
     "execution_count": 7,
     "metadata": {},
     "output_type": "execute_result"
    }
   ],
   "source": [
    "LJ = enthalpy[\"LJ\"] + enthalpy[\"LJ14\"]\n",
    "LJ"
   ]
  },
  {
   "cell_type": "markdown",
   "source": [
    "### Electrostatic term"
   ],
   "metadata": {
    "collapsed": false
   }
  },
  {
   "cell_type": "code",
   "execution_count": 8,
   "id": "973c35ea",
   "metadata": {},
   "outputs": [
    {
     "data": {
      "text/plain": [
       "-9.42081003812973"
      ]
     },
     "execution_count": 8,
     "metadata": {},
     "output_type": "execute_result"
    }
   ],
   "source": [
    "Elec = enthalpy[\"Elec\"] + enthalpy[\"Elec14\"]\n",
    "Elec"
   ]
  },
  {
   "cell_type": "markdown",
   "source": [
    "### Sum of all components"
   ],
   "metadata": {
    "collapsed": false
   }
  },
  {
   "cell_type": "code",
   "execution_count": 9,
   "id": "06aba760",
   "metadata": {},
   "outputs": [
    {
     "data": {
      "text/plain": [
       "-25.87299067452602"
      ]
     },
     "execution_count": 9,
     "metadata": {},
     "output_type": "execute_result"
    }
   ],
   "source": [
    "potential = LJ + Elec + valence\n",
    "potential"
   ]
  },
  {
   "cell_type": "markdown",
   "source": [
    "### Total Enthalpy"
   ],
   "metadata": {
    "collapsed": false
   }
  },
  {
   "cell_type": "code",
   "execution_count": 10,
   "id": "75ba0e18",
   "metadata": {},
   "outputs": [
    {
     "name": "stdout",
     "output_type": "stream",
     "text": [
      "Bound Potential  : -21865.44 +- 0.17 kcal/mol\n",
      "Unbound Potential: -21839.57 +- 0.22 kcal/mol\n",
      "Binding Enthalpy : -25.87 +- 0.27 kcal/mol\n"
     ]
    }
   ],
   "source": [
    "bound = block_sem(bound_potential)\n",
    "unbound = block_sem(unbound_potential)\n",
    "enthalpy = {\n",
    "    \"pe\": bound[0] - unbound[0],\n",
    "    \"sem\": (bound[1] ** 2 + unbound[1] ** 2) ** 0.5,\n",
    "}\n",
    "print(f\"Bound Potential  : {bound[0]:.2f} +- {bound[1]:.2f} kcal/mol\")\n",
    "print(f\"Unbound Potential: {unbound[0]:.2f} +- {unbound[1]:.2f} kcal/mol\")\n",
    "print(f\"Binding Enthalpy : {enthalpy['pe']:.2f} +- {enthalpy['sem']:.2f} kcal/mol\")"
   ]
  },
  {
   "cell_type": "code",
   "execution_count": null,
   "id": "bb457964-2f5c-4dd5-8e34-452ece8ed062",
   "metadata": {},
   "outputs": [],
   "source": []
  }
 ],
 "metadata": {
  "kernelspec": {
   "display_name": "Python 3 (ipykernel)",
   "language": "python",
   "name": "python3"
  },
  "language_info": {
   "codemirror_mode": {
    "name": "ipython",
    "version": 3
   },
   "file_extension": ".py",
   "mimetype": "text/x-python",
   "name": "python",
   "nbconvert_exporter": "python",
   "pygments_lexer": "ipython3",
   "version": "3.9.16"
  }
 },
 "nbformat": 4,
 "nbformat_minor": 5
}
