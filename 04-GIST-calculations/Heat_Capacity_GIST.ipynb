{
 "cells": [
  {
   "cell_type": "code",
   "execution_count": 1,
   "id": "61575bf7-247d-44b6-bdf2-c4ab624d478e",
   "metadata": {
    "tags": []
   },
   "outputs": [],
   "source": [
    "import gisttools as gt\n",
    "import numpy as np"
   ]
  },
  {
   "cell_type": "markdown",
   "id": "d2ed263e-6fae-4cb9-9a87-dff5ff393fa1",
   "metadata": {},
   "source": [
    "# Get $E_{bulk}^{ww}$ at 298.15 K and 328.15 K"
   ]
  },
  {
   "cell_type": "code",
   "execution_count": 2,
   "id": "69533c32-a856-4507-92c5-fdd74d441482",
   "metadata": {
    "tags": []
   },
   "outputs": [],
   "source": [
    "T_init = 298.15\n",
    "T_final = 328.15\n",
    "dTemp = T_final - T_init"
   ]
  },
  {
   "cell_type": "code",
   "execution_count": 3,
   "id": "75a0884d-be15-490c-b649-eeeb635f6254",
   "metadata": {
    "tags": []
   },
   "outputs": [
    {
     "name": "stderr",
     "output_type": "stream",
     "text": [
      "/Users/jsetiadi/Documents/Software/gisttools/gisttools/gist.py:264: RuntimeWarning: eww reference is zero, but there is a Eww_unref_norm column. All operations that rely on referenced Eww values will generate wrong results. Explicitly set eww_ref to zero to suppress this warning.\n",
      "  warnings.warn(RuntimeWarning(\n"
     ]
    }
   ],
   "source": [
    "water_25 = gt.gist.load_gist_file(\n",
    "    \"04-pure-water-box/GIST-analysis/25deg/gist-output.dat\"\n",
    ")\n",
    "water_25.eww_ref = water_25[\"Eww_norm\"].mean()"
   ]
  },
  {
   "cell_type": "code",
   "execution_count": 4,
   "id": "9f496a66-75e0-4695-9754-6d5e3d84ca48",
   "metadata": {
    "tags": []
   },
   "outputs": [
    {
     "name": "stderr",
     "output_type": "stream",
     "text": [
      "/Users/jsetiadi/Documents/Software/gisttools/gisttools/gist.py:264: RuntimeWarning: eww reference is zero, but there is a Eww_unref_norm column. All operations that rely on referenced Eww values will generate wrong results. Explicitly set eww_ref to zero to suppress this warning.\n",
      "  warnings.warn(RuntimeWarning(\n"
     ]
    }
   ],
   "source": [
    "water_55 = gt.gist.load_gist_file(\n",
    "    \"04-pure-water-box/GIST-analysis/55deg/gist-output.dat\"\n",
    ")\n",
    "water_55.eww_ref = water_55[\"Eww_norm\"].mean()"
   ]
  },
  {
   "cell_type": "markdown",
   "id": "61b3fea3-ed34-476d-9310-32d59c4a0da9",
   "metadata": {},
   "source": [
    "# Load `gist-output.dat` from `Complex`, `Host`, and `Guest`"
   ]
  },
  {
   "cell_type": "code",
   "execution_count": 5,
   "id": "8441049f-50c7-4e15-843b-4246a9daab23",
   "metadata": {
    "tags": []
   },
   "outputs": [],
   "source": [
    "complex_25 = gt.gist.load_gist_file(\n",
    "    \"01-complex-in-water/GIST-analysis/25deg/gist-output.dat\", eww_ref=water_25.eww_ref\n",
    ")\n",
    "complex_55 = gt.gist.load_gist_file(\n",
    "    \"01-complex-in-water/GIST-analysis/55deg/gist-output.dat\", eww_ref=water_55.eww_ref\n",
    ")"
   ]
  },
  {
   "cell_type": "code",
   "execution_count": 6,
   "id": "668b4b68-89a8-44bb-bbcd-98decc54faf8",
   "metadata": {
    "tags": []
   },
   "outputs": [],
   "source": [
    "host_25 = gt.gist.load_gist_file(\n",
    "    \"02-host-in-water/GIST-analysis/25deg/gist-output.dat\", eww_ref=water_25.eww_ref\n",
    ")\n",
    "host_55 = gt.gist.load_gist_file(\n",
    "    \"02-host-in-water/GIST-analysis/55deg/gist-output.dat\", eww_ref=water_55.eww_ref\n",
    ")"
   ]
  },
  {
   "cell_type": "code",
   "execution_count": 7,
   "id": "69ecf351-5e28-44f9-8d55-648c958bee35",
   "metadata": {
    "tags": []
   },
   "outputs": [],
   "source": [
    "guest_25 = gt.gist.load_gist_file(\n",
    "    \"03-guest-in-water/GIST-analysis/25deg/gist-output.dat\", eww_ref=water_25.eww_ref\n",
    ")\n",
    "guest_55 = gt.gist.load_gist_file(\n",
    "    \"03-guest-in-water/GIST-analysis/55deg/gist-output.dat\", eww_ref=water_55.eww_ref\n",
    ")"
   ]
  },
  {
   "cell_type": "markdown",
   "id": "bba936d2-18e7-4909-a250-81288aa9b734",
   "metadata": {},
   "source": [
    "# Get Total Energy -- $E_{i}^{tot} = E_{i}^{sw} + \\left(E_{i}^{ww} - \\frac{n_{i}}{n_{i,bulk}}E_{i,bulk}^{ww}\\right) \\times V_{voxel}$"
   ]
  },
  {
   "cell_type": "code",
   "execution_count": 8,
   "id": "824c0d51-b5e5-4b8d-838c-2067fea32343",
   "metadata": {
    "tags": []
   },
   "outputs": [],
   "source": [
    "complex_25[\"Etotal\"] = (complex_25[\"Esw_dens\"] + complex_25[\"Eww_dens\"]) * np.prod(\n",
    "    complex_25.grid.delta\n",
    ")\n",
    "complex_55[\"Etotal\"] = (complex_55[\"Esw_dens\"] + complex_55[\"Eww_dens\"]) * np.prod(\n",
    "    complex_55.grid.delta\n",
    ")"
   ]
  },
  {
   "cell_type": "code",
   "execution_count": 9,
   "id": "bc4e2a76-7b70-49dc-b726-64b25ccd1f61",
   "metadata": {
    "tags": []
   },
   "outputs": [],
   "source": [
    "host_25[\"Etotal\"] = (host_25[\"Esw_dens\"] + host_25[\"Eww_dens\"]) * np.prod(\n",
    "    host_25.grid.delta\n",
    ")\n",
    "host_55[\"Etotal\"] = (host_55[\"Esw_dens\"] + host_55[\"Eww_dens\"]) * np.prod(\n",
    "    host_55.grid.delta\n",
    ")"
   ]
  },
  {
   "cell_type": "code",
   "execution_count": 10,
   "id": "c2be93cf-d790-4a0e-bb30-323fe95213c5",
   "metadata": {
    "tags": []
   },
   "outputs": [],
   "source": [
    "guest_25[\"Etotal\"] = (guest_25[\"Esw_dens\"] + guest_25[\"Eww_dens\"]) * np.prod(\n",
    "    guest_25.grid.delta\n",
    ")\n",
    "guest_55[\"Etotal\"] = (guest_55[\"Esw_dens\"] + guest_55[\"Eww_dens\"]) * np.prod(\n",
    "    guest_55.grid.delta\n",
    ")"
   ]
  },
  {
   "cell_type": "markdown",
   "id": "7c79d4a2-401d-42b5-bc92-a13bd7e06862",
   "metadata": {},
   "source": [
    "# Get Heat Capacity -- $C_{p,i} = \\frac{E_{i}^{tot}(T_{2}) - E_{i}^{tot}(T_{1})}{T_{2} - T_{1}} \\times 1000$ cal/mol/K"
   ]
  },
  {
   "cell_type": "code",
   "execution_count": 11,
   "id": "27a36f14-2009-4bc9-a8c9-fc761b25dccd",
   "metadata": {
    "tags": []
   },
   "outputs": [],
   "source": [
    "Cp_complex = (complex_55[\"Etotal\"] - complex_25[\"Etotal\"]) / dTemp * 1000\n",
    "Cp_host = (host_55[\"Etotal\"] - host_25[\"Etotal\"]) / dTemp * 1000\n",
    "Cp_guest = (guest_55[\"Etotal\"] - guest_25[\"Etotal\"]) / dTemp * 1000"
   ]
  },
  {
   "cell_type": "markdown",
   "id": "57852cba-ec22-47b2-b27d-61decc97f935",
   "metadata": {},
   "source": [
    "# Change in Heat Capacity Upon Binding -- $\\Delta C_{p,b} = C_{p}^{complex} - C_{p}^{host} - C_{p}^{guest}$"
   ]
  },
  {
   "cell_type": "code",
   "execution_count": 12,
   "id": "2b9611fd-ed59-49f8-9b70-c935c6b0a093",
   "metadata": {
    "tags": []
   },
   "outputs": [
    {
     "name": "stdout",
     "output_type": "stream",
     "text": [
      "Delta Cp(b) = -115.4 cal/mol/K\n"
     ]
    }
   ],
   "source": [
    "dCp = Cp_complex - Cp_host - Cp_guest\n",
    "\n",
    "print(f\"Delta Cp(b) = {dCp.sum():.1f} cal/mol/K\")"
   ]
  },
  {
   "cell_type": "markdown",
   "id": "14ca765a-e162-4921-86d7-ef1dfe2e501f",
   "metadata": {},
   "source": [
    "# Save Heat Capacity to DX file"
   ]
  },
  {
   "cell_type": "code",
   "execution_count": 13,
   "id": "72724891-e76f-4d66-9fb3-263ada4e44de",
   "metadata": {},
   "outputs": [],
   "source": [
    "complex_25[\"Heat_Capacity\"] = dCp\n",
    "complex_25.save_dx(\"Heat_Capacity\", \"heat_capacity_binding.dx\")"
   ]
  },
  {
   "cell_type": "code",
   "execution_count": null,
   "id": "5aa807fa-7602-4a25-9c21-081dc696f511",
   "metadata": {},
   "outputs": [],
   "source": []
  }
 ],
 "metadata": {
  "kernelspec": {
   "display_name": "Python 3 (ipykernel)",
   "language": "python",
   "name": "python3"
  },
  "language_info": {
   "codemirror_mode": {
    "name": "ipython",
    "version": 3
   },
   "file_extension": ".py",
   "mimetype": "text/x-python",
   "name": "python",
   "nbconvert_exporter": "python",
   "pygments_lexer": "ipython3",
   "version": "3.10.11"
  }
 },
 "nbformat": 4,
 "nbformat_minor": 5
}
